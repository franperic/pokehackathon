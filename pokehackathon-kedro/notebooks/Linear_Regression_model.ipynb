{
 "cells": [
  {
   "cell_type": "code",
   "execution_count": 7,
   "metadata": {},
   "outputs": [],
   "source": [
    "import pandas as pd\n",
    "import numpy as np"
   ]
  },
  {
   "cell_type": "code",
   "execution_count": 47,
   "metadata": {},
   "outputs": [
    {
     "name": "stdout",
     "output_type": "stream",
     "text": [
      "2020-05-30 20:58:00,549 - kedro.io.data_catalog - INFO - Loading data from `battle_results_with_weakness` (CSVDataSet)...\n"
     ]
    },
    {
     "name": "stderr",
     "output_type": "stream",
     "text": [
      "/Users/lucazurmuehle/anaconda3/envs/pokehack/lib/python3.6/site-packages/kedro/io/data_catalog.py:358: DtypeWarning: Columns (24,27) have mixed types.Specify dtype option on import or set low_memory=False.\n",
      "  result = func()\n"
     ]
    }
   ],
   "source": [
    "#Test battle_results_with_weakness\n",
    "\n",
    "battle_results_with_weakness = catalog.load(\"battle_results_with_weakness\")"
   ]
  },
  {
   "cell_type": "code",
   "execution_count": 5,
   "metadata": {},
   "outputs": [
    {
     "data": {
      "text/plain": [
       "Index(['Name_1', 'Level_1', 'Price_1', 'HP_1', 'Attack_1', 'Defense_1',\n",
       "       'Sp_Atk_1', 'Sp_Def_1', 'Speed_1', 'Legendary_1', 'Name_2', 'Level_2',\n",
       "       'Price_2', 'HP_2', 'Attack_2', 'Defense_2', 'Sp_Atk_2', 'Sp_Def_2',\n",
       "       'Speed_2', 'Legendary_2', 'WeatherAndTime', 'BattleResult', 'ID_1',\n",
       "       'Type_1_1', 'Type_2_1', 'ID_2', 'Type_1_2', 'Type_2_2', 'Type_1_1_a',\n",
       "       'Type_1_1_b', 'Type_1_1_c', 'Type_1_1_d', 'Type_1_1_e', 'Type_1_2_a',\n",
       "       'Type_1_2_b', 'Type_1_2_c', 'Type_1_2_d', 'Type_1_2_e', 'Type_2_1_a',\n",
       "       'Type_2_1_b', 'Type_2_1_c', 'Type_2_1_d', 'Type_2_1_e', 'Type_2_2_a',\n",
       "       'Type_2_2_b', 'Type_2_2_c', 'Type_2_2_d', 'Type_2_2_e',\n",
       "       'WeatherAndTime_a', 'WeatherAndTime_b', 'WeatherAndTime_c',\n",
       "       'WeatherAndTime_d', 'WeatherAndTime_e', 'A1/D2', 'A2/D1', 'Sp_A1/Sp_D2',\n",
       "       'Sp_A2/Sp_D1', 'value_1_1ab', 'value_1_1ba', 'Eff_11', 'value_1_2ab',\n",
       "       'value_2_1ba', 'Eff_12', 'value_2_1ab', 'value_1_2ba', 'Eff_21',\n",
       "       'value_2_2ab', 'value_2_2ba', 'Eff_22', 'Eff'],\n",
       "      dtype='object')"
      ]
     },
     "execution_count": 5,
     "metadata": {},
     "output_type": "execute_result"
    }
   ],
   "source": [
    "battle_results_with_weakness.keys()"
   ]
  },
  {
   "cell_type": "code",
   "execution_count": 43,
   "metadata": {},
   "outputs": [],
   "source": [
    "import logging\n",
    "from typing import Dict, List\n",
    "\n",
    "import numpy as np\n",
    "import pandas as pd\n",
    "from sklearn.linear_model import LinearRegression\n",
    "from sklearn.metrics import r2_score, mean_squared_error \n",
    "from sklearn.model_selection import train_test_split\n",
    "\n",
    "\n",
    "def split_data(data: pd.DataFrame, parameters: Dict) -> List:\n",
    "    \"\"\"Splits data into training and test sets.\n",
    "\n",
    "        Args:\n",
    "            data: Source data.\n",
    "            parameters: Parameters defined in parameters.yml.\n",
    "\n",
    "        Returns:\n",
    "            A list containing split data.\n",
    "\n",
    "    \"\"\"\n",
    "    X = data[\n",
    "        [   'Level_1', \n",
    "            #'Price_1', \n",
    "            'HP_1', \n",
    "            'Attack_1', \n",
    "            'Defense_1',\n",
    "            'Sp_Atk_1', \n",
    "            'Sp_Def_1', \n",
    "            'Speed_1', \n",
    "            'Legendary_1',\n",
    "         \n",
    "            'A1/D2',\n",
    "            'A2/D1',\n",
    "            'Sp_A1/Sp_D2',\n",
    "            'Sp_A2/Sp_D1',\n",
    "         \n",
    "            'Eff_11',\n",
    "            'Eff_12',\n",
    "            'Eff_21',\n",
    "            'Eff_22',\n",
    "            'Eff',\n",
    "\n",
    "            'Level_2',\n",
    "            #'Price_2', \n",
    "            'HP_2', \n",
    "            'Attack_2', \n",
    "            'Defense_2', \n",
    "            'Sp_Atk_2', \n",
    "            'Sp_Def_2',\n",
    "            'Speed_2', \n",
    "            'Legendary_2', \n",
    "         \n",
    "            'WeatherAndTime_a', 'WeatherAndTime_b', 'WeatherAndTime_c',\n",
    "            'WeatherAndTime_d', 'WeatherAndTime_e',\n",
    "         \n",
    "            'Type_1_1_a', 'Type_1_1_b', 'Type_1_1_c', 'Type_1_1_d', 'Type_1_1_e', \n",
    "            'Type_1_2_a', 'Type_1_2_b', 'Type_1_2_c', 'Type_1_2_d', 'Type_1_2_e', \n",
    "            'Type_2_1_a', 'Type_2_1_b', 'Type_2_1_c', 'Type_2_1_d', 'Type_2_1_e', \n",
    "            'Type_2_2_a', 'Type_2_2_b', 'Type_2_2_c', 'Type_2_2_d', 'Type_2_2_e',\n",
    "         #0,1,2,3,4,\n",
    "         # 'WeatherAndTime',\n",
    "        ]\n",
    "    ].values\n",
    "    y = data[\"BattleResult\"].values\n",
    "    X_train, X_test, y_train, y_test = train_test_split(\n",
    "        X, y, test_size=parameters[\"test_size\"], random_state=parameters[\"random_state\"]\n",
    "    )\n",
    "\n",
    "    return [X_train, X_test, y_train, y_test]\n",
    "\n",
    "\n",
    "def train_model(X_train: np.ndarray, y_train: np.ndarray) -> LinearRegression:\n",
    "    \"\"\"Train the linear regression model.\n",
    "\n",
    "        Args:\n",
    "            X_train: Training data of independent features.\n",
    "            y_train: Training data for price.\n",
    "\n",
    "        Returns:\n",
    "            Trained model.\n",
    "\n",
    "    \"\"\"\n",
    "    regressor = LinearRegression()\n",
    "    regressor.fit(X_train, y_train)\n",
    "    return regressor\n",
    "\n",
    "\n",
    "def evaluate_model(regressor: LinearRegression, X_test: np.ndarray, y_test: np.ndarray):\n",
    "    \"\"\"Calculate the coefficient of determination and log the result.\n",
    "\n",
    "        Args:\n",
    "            regressor: Trained model.\n",
    "            X_test: Testing data of independent features.\n",
    "            y_test: Testing data for price.\n",
    "\n",
    "    \"\"\"\n",
    "    y_pred = regressor.predict(X_test)\n",
    "    print(y_pred, y_test, sum((y_pred-y_test)**2)/len(y_test))\n",
    "    score = r2_score(y_test, y_pred)\n",
    "    MSE = mean_squared_error(y_test,y_pred) \n",
    "    \n",
    "    logger = logging.getLogger(__name__)\n",
    "    logger.info(\"Model has a coefficient R^2 of %.3f.\", score)\n",
    "    logger.info(\"and a Mean Squared Error of %.3f.\", MSE )\n",
    "#     plt.scatter(X_test, y_test)\n",
    "\n",
    "    #Plot for actual and prediction\n",
    "    a = plt.axes(aspect='equal')\n",
    "    plt.scatter(y_test, y_pred)\n",
    "    plt.xlabel('Actuals [BattleResult]')\n",
    "    plt.ylabel('Predictions [BattleResult]')\n",
    "    lims = [-2500,2500]\n",
    "    plt.xlim(lims)\n",
    "    plt.ylim(lims)\n",
    "    _ = plt.plot(lims, lims, c=\"orange\")\n",
    "    plt.show()\n",
    "\n",
    "#     plt.scatter(y_test, y_pred)#, color='red')\n",
    "#     plt.show()"
   ]
  },
  {
   "cell_type": "code",
   "execution_count": 40,
   "metadata": {},
   "outputs": [],
   "source": [
    "params = dict({'test_size': 0.2, 'random_state': 3})\n",
    "\n",
    "X_train, X_test, y_train, y_test = split_data(battle_results_with_weakness, params)"
   ]
  },
  {
   "cell_type": "code",
   "execution_count": 41,
   "metadata": {},
   "outputs": [],
   "source": [
    "regressor = train_model(X_train, y_train)"
   ]
  },
  {
   "cell_type": "code",
   "execution_count": 42,
   "metadata": {},
   "outputs": [
    {
     "name": "stdout",
     "output_type": "stream",
     "text": [
      "[ 154.00194036  -84.81605043 -209.50868495 ...  121.66232666  824.25864805\n",
      "  372.79787133] [ 170  -60 -249 ...  147  647  584] [  255.93791238   615.83635908  1559.56396437 ...   641.99769012\n",
      " 31420.62830769 44606.33915684]\n",
      "2020-05-30 19:38:38,591 - __main__ - INFO - Model has a coefficient R^2 of 0.897.\n"
     ]
    }
   ],
   "source": [
    "evaluate_model(regressor, X_test, y_test)"
   ]
  },
  {
   "cell_type": "code",
   "execution_count": 1,
   "metadata": {},
   "outputs": [
    {
     "name": "stdout",
     "output_type": "stream",
     "text": [
      "2020-05-30 21:05:22,507 - kedro.io.data_catalog - INFO - Loading data from `battle_results_diff_ratio` (CSVDataSet)...\n"
     ]
    },
    {
     "name": "stderr",
     "output_type": "stream",
     "text": [
      "/Users/lucazurmuehle/anaconda3/envs/pokehack/lib/python3.6/site-packages/kedro/io/data_catalog.py:358: DtypeWarning: Columns (24,27) have mixed types.Specify dtype option on import or set low_memory=False.\n",
      "  result = func()\n"
     ]
    }
   ],
   "source": [
    "# Now for the Data with differences and ratios\n",
    "\n",
    "battle_results_diff_ratio = catalog.load(\"battle_results_diff_ratio\")"
   ]
  },
  {
   "cell_type": "code",
   "execution_count": 12,
   "metadata": {},
   "outputs": [
    {
     "data": {
      "text/plain": [
       "Index(['Name_1', 'Level_1', 'Price_1', 'HP_1', 'Attack_1', 'Defense_1',\n",
       "       'Sp_Atk_1', 'Sp_Def_1', 'Speed_1', 'Legendary_1', 'Name_2', 'Level_2',\n",
       "       'Price_2', 'HP_2', 'Attack_2', 'Defense_2', 'Sp_Atk_2', 'Sp_Def_2',\n",
       "       'Speed_2', 'Legendary_2', 'WeatherAndTime', 'BattleResult', 'ID_1',\n",
       "       'Type_1_1', 'Type_2_1', 'ID_2', 'Type_1_2', 'Type_2_2', 'Type_1_1_a',\n",
       "       'Type_1_1_b', 'Type_1_1_c', 'Type_1_1_d', 'Type_1_1_e', 'Type_1_2_a',\n",
       "       'Type_1_2_b', 'Type_1_2_c', 'Type_1_2_d', 'Type_1_2_e', 'Type_2_1_a',\n",
       "       'Type_2_1_b', 'Type_2_1_c', 'Type_2_1_d', 'Type_2_1_e', 'Type_2_2_a',\n",
       "       'Type_2_2_b', 'Type_2_2_c', 'Type_2_2_d', 'Type_2_2_e',\n",
       "       'WeatherAndTime_a', 'WeatherAndTime_b', 'WeatherAndTime_c',\n",
       "       'WeatherAndTime_d', 'WeatherAndTime_e', 'A1/D2', 'A2/D1', 'Sp_A1/Sp_D2',\n",
       "       'Sp_A2/Sp_D1', 'value_1_1ab', 'value_1_1ba', 'Eff_11', 'value_1_2ab',\n",
       "       'value_2_1ba', 'Eff_12', 'value_2_1ab', 'value_1_2ba', 'Eff_21',\n",
       "       'value_2_2ab', 'value_2_2ba', 'Eff_22', 'Eff', 'Level Diff',\n",
       "       'Level Ratio', 'Price Diff', 'Price Ratio', 'HP Diff', 'HP Ratio',\n",
       "       'Attack Diff', 'Attack Ratio', 'Defense Diff', 'Defense Ratio',\n",
       "       'Sp_Atk Diff', 'Sp_Atk Ratio', 'Sp_Def Diff', 'Sp_Def Ratio',\n",
       "       'Speed Diff', 'Speed Ratio', 'A/D Diff', 'A/D Ratio', 'Sp_A/Sp_D Diff',\n",
       "       'Sp_A/Sp_D Ratio', 'Legendary Diff', 'Eff_11 Diff', 'Eff_12 Diff',\n",
       "       'Eff_21 Diff', 'Eff_22 Diff', 'Eff Diff'],\n",
       "      dtype='object')"
      ]
     },
     "execution_count": 12,
     "metadata": {},
     "output_type": "execute_result"
    }
   ],
   "source": [
    "battle_results_diff_ratio.keys()"
   ]
  },
  {
   "cell_type": "code",
   "execution_count": 49,
   "metadata": {},
   "outputs": [],
   "source": [
    "import logging\n",
    "from typing import Dict, List\n",
    "\n",
    "import numpy as np\n",
    "import pandas as pd\n",
    "from sklearn.linear_model import LinearRegression\n",
    "from sklearn.metrics import r2_score, mean_squared_error \n",
    "from sklearn.model_selection import train_test_split\n",
    "import matplotlib.pyplot as plt\n",
    "\n",
    "\n",
    "def split_data(data: pd.DataFrame, parameters: Dict) -> List:\n",
    "    \"\"\"Splits data into training and test sets.\n",
    "\n",
    "        Args:\n",
    "            data: Source data.\n",
    "            parameters: Parameters defined in parameters.yml.\n",
    "\n",
    "        Returns:\n",
    "            A list containing split data.\n",
    "\n",
    "    \"\"\"\n",
    "    X = data[\n",
    "         [\n",
    "            'Level_1', \n",
    "            'Price_1', \n",
    "            'HP_1', \n",
    "            'Attack_1', \n",
    "            'Defense_1',\n",
    "            'Sp_Atk_1', \n",
    "            'Sp_Def_1', \n",
    "            'Speed_1', \n",
    "            'Legendary_1',\n",
    "         \n",
    "            'A1/D2',\n",
    "            'A2/D1',\n",
    "            'Sp_A1/Sp_D2',\n",
    "            'Sp_A2/Sp_D1',\n",
    "             \n",
    "            'value_1_1ab', 'value_1_1ba', \n",
    "            'value_1_2ab', 'value_2_1ba', \n",
    "            'value_2_1ab', 'value_1_2ba',\n",
    "            'value_2_2ab', 'value_2_2ba',\n",
    "         \n",
    "            'Eff_11',\n",
    "            'Eff_12',\n",
    "            'Eff_21',\n",
    "            'Eff_22',\n",
    "            'Eff',\n",
    "\n",
    "            'Level_2',\n",
    "            'Price_2', \n",
    "            'HP_2', \n",
    "            'Attack_2', \n",
    "            'Defense_2', \n",
    "            'Sp_Atk_2', \n",
    "            'Sp_Def_2',\n",
    "            'Speed_2', \n",
    "            'Legendary_2', \n",
    "         \n",
    "            'WeatherAndTime_a', 'WeatherAndTime_b', 'WeatherAndTime_c',\n",
    "            'WeatherAndTime_d', 'WeatherAndTime_e',\n",
    "         \n",
    "            'Type_1_1_a', 'Type_1_1_b', 'Type_1_1_c', 'Type_1_1_d', 'Type_1_1_e', \n",
    "            'Type_1_2_a', 'Type_1_2_b', 'Type_1_2_c', 'Type_1_2_d', 'Type_1_2_e', \n",
    "            'Type_2_1_a', 'Type_2_1_b', 'Type_2_1_c', 'Type_2_1_d', 'Type_2_1_e', \n",
    "            'Type_2_2_a', 'Type_2_2_b', 'Type_2_2_c', 'Type_2_2_d', 'Type_2_2_e',\n",
    "         \n",
    "         \n",
    "            'Level Diff',\n",
    "            'Level Ratio', 'Price Diff', 'Price Ratio', 'HP Diff', 'HP Ratio',\n",
    "            'Attack Diff', 'Attack Ratio', 'Defense Diff', 'Defense Ratio',\n",
    "            'Sp_Atk Diff', 'Sp_Atk Ratio', 'Sp_Def Diff', 'Sp_Def Ratio',\n",
    "            'Speed Diff', 'Speed Ratio', 'A/D Diff', 'A/D Ratio', 'Sp_A/Sp_D Diff',\n",
    "            'Sp_A/Sp_D Ratio', 'Legendary Diff', 'Eff_11 Diff', 'Eff_12 Diff',\n",
    "            'Eff_21 Diff', 'Eff_22 Diff', 'Eff Diff'\n",
    "         #0,1,2,3,4,\n",
    "         # 'WeatherAndTime',\n",
    "        ]\n",
    "    ].values\n",
    "    y = data[\"BattleResult\"].values\n",
    "    X_train, X_test, y_train, y_test = train_test_split(\n",
    "        X, y, test_size=parameters[\"test_size\"], random_state=parameters[\"random_state\"]\n",
    "    )\n",
    "\n",
    "    return [X_train, X_test, y_train, y_test]"
   ]
  },
  {
   "cell_type": "code",
   "execution_count": 50,
   "metadata": {},
   "outputs": [],
   "source": [
    "params = dict({'test_size': 0.2, 'random_state': 3})\n",
    "\n",
    "X_train_diff, X_test_diff, y_train_diff, y_test_diff = split_data(battle_results_diff_ratio, params)"
   ]
  },
  {
   "cell_type": "code",
   "execution_count": 51,
   "metadata": {},
   "outputs": [],
   "source": [
    "regressor = train_model(X_train_diff, y_train_diff)"
   ]
  },
  {
   "cell_type": "code",
   "execution_count": 52,
   "metadata": {},
   "outputs": [
    {
     "name": "stdout",
     "output_type": "stream",
     "text": [
      "[ 158.65935723  -34.88751777 -226.24689277 ...  185.22185723  790.59685723\n",
      "  548.87810723] [ 170  -60 -249 ...  147  647  584] 21771.87677193444\n",
      "2020-05-30 21:48:02,742 - __main__ - INFO - Model has a coefficient R^2 of 0.907.\n",
      "2020-05-30 21:48:02,745 - __main__ - INFO - and a Mean Squared Error of 21771.877.\n"
     ]
    },
    {
     "data": {
      "image/png": "[encoded data removed]",
      "text/plain": [
       "<Figure size 432x288 with 1 Axes>"
      ]
     },
     "metadata": {
      "needs_background": "light"
     },
     "output_type": "display_data"
    }
   ],
   "source": [
    "evaluate_model(regressor, X_test_diff, y_test_diff)"
   ]
  },
  {
   "cell_type": "code",
   "execution_count": 20,
   "metadata": {},
   "outputs": [
    {
     "ename": "NameError",
     "evalue": "name 'y_pred' is not defined",
     "output_type": "error",
     "traceback": [
      "\u001b[0;31m---------------------------------------------------------------------------\u001b[0m",
      "\u001b[0;31mNameError\u001b[0m                                 Traceback (most recent call last)",
      "\u001b[0;32m<ipython-input-20-421157ec4fd7>\u001b[0m in \u001b[0;36m<module>\u001b[0;34m\u001b[0m\n\u001b[0;32m----> 1\u001b[0;31m \u001b[0mprint\u001b[0m\u001b[0;34m(\u001b[0m\u001b[0my_pred\u001b[0m\u001b[0;34m)\u001b[0m\u001b[0;34m\u001b[0m\u001b[0;34m\u001b[0m\u001b[0m\n\u001b[0m",
      "\u001b[0;31mNameError\u001b[0m: name 'y_pred' is not defined"
     ]
    }
   ],
   "source": [
    "print(y_pred)"
   ]
  },
  {
   "cell_type": "code",
   "execution_count": 40,
   "metadata": {},
   "outputs": [
    {
     "name": "stdout",
     "output_type": "stream",
     "text": [
      "(543833,) (543833,)\n"
     ]
    }
   ],
   "source": [
    "print(np.shape(X_test_diff[:,0]), np.shape(y_test_diff) )"
   ]
  },
  {
   "cell_type": "code",
   "execution_count": 38,
   "metadata": {},
   "outputs": [
    {
     "data": {
      "text/plain": [
       "array([ 5.60000000e+01,  1.70000000e+02,  3.03000000e+02,  1.70000000e+02,\n",
       "        1.31000000e+02,  1.31000000e+02,  2.73000000e+02,  0.00000000e+00,\n",
       "        4.09459459e+00,  5.29411765e-01,  1.48863636e+00,  7.86259542e-01,\n",
       "        1.00000000e+00,  1.00000000e+00,  1.00000000e+00,  1.00000000e+00,\n",
       "        1.00000000e+00,  2.50000000e+01,  8.60000000e+01,  9.00000000e+01,\n",
       "        7.40000000e+01,  1.03000000e+02,  8.80000000e+01,  1.09000000e+02,\n",
       "        0.00000000e+00, -1.00000000e+00, -1.00000000e+00,  1.00000000e+00,\n",
       "       -1.00000000e+00, -2.00000000e+00,  2.00000000e+00,  1.00000000e+00,\n",
       "        0.00000000e+00,  1.00000000e+00,  0.00000000e+00,  1.00000000e+00,\n",
       "       -1.00000000e+00,  0.00000000e+00, -1.00000000e+00,  1.00000000e+00,\n",
       "        0.00000000e+00, -1.00000000e+00,  0.00000000e+00, -1.00000000e+00,\n",
       "        0.00000000e+00,  0.00000000e+00,  0.00000000e+00,  0.00000000e+00,\n",
       "        0.00000000e+00,  0.00000000e+00,  3.10000000e+01,  2.24000000e+00,\n",
       "        6.28000000e+02,  2.14181818e+00,  8.40000000e+01,  1.97674419e+00,\n",
       "        2.13000000e+02,  3.36666667e+00,  9.60000000e+01,  2.29729730e+00,\n",
       "        2.80000000e+01,  1.27184466e+00,  4.30000000e+01,  1.48863636e+00,\n",
       "        1.64000000e+02,  2.50458716e+00,  3.56518283e+00,  7.73423423e+00,\n",
       "        7.02376822e-01,  1.89331421e+00,  0.00000000e+00,  0.00000000e+00,\n",
       "        0.00000000e+00,  0.00000000e+00,  0.00000000e+00,  0.00000000e+00])"
      ]
     },
     "execution_count": 38,
     "metadata": {},
     "output_type": "execute_result"
    }
   ],
   "source": [
    "X_test_diff[:][0]"
   ]
  },
  {
   "cell_type": "code",
   "execution_count": null,
   "metadata": {},
   "outputs": [],
   "source": []
  }
 ],
 "metadata": {
  "kernelspec": {
   "display_name": "PokeHackathonKedro",
   "language": "python",
   "name": "python3"
  },
  "language_info": {
   "codemirror_mode": {
    "name": "ipython",
    "version": 3
   },
   "file_extension": ".py",
   "mimetype": "text/x-python",
   "name": "python",
   "nbconvert_exporter": "python",
   "pygments_lexer": "ipython3",
   "version": "3.6.10"
  }
 },
 "nbformat": 4,
 "nbformat_minor": 4
}
