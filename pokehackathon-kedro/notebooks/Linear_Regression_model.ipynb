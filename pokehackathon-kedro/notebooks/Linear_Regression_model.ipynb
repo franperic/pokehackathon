{
 "cells": [
  {
   "cell_type": "code",
   "execution_count": 7,
   "metadata": {},
   "outputs": [],
   "source": [
    "import pandas as pd\n",
    "import numpy as np"
   ]
  },
  {
   "cell_type": "code",
   "execution_count": 47,
   "metadata": {},
   "outputs": [
    {
     "name": "stdout",
     "output_type": "stream",
     "text": [
      "2020-05-30 20:58:00,549 - kedro.io.data_catalog - INFO - Loading data from `battle_results_with_weakness` (CSVDataSet)...\n"
     ]
    },
    {
     "name": "stderr",
     "output_type": "stream",
     "text": [
      "/Users/lucazurmuehle/anaconda3/envs/pokehack/lib/python3.6/site-packages/kedro/io/data_catalog.py:358: DtypeWarning: Columns (24,27) have mixed types.Specify dtype option on import or set low_memory=False.\n",
      "  result = func()\n"
     ]
    }
   ],
   "source": [
    "#Test battle_results_with_weakness\n",
    "\n",
    "battle_results_with_weakness = catalog.load(\"battle_results_with_weakness\")"
   ]
  },
  {
   "cell_type": "code",
   "execution_count": 5,
   "metadata": {},
   "outputs": [
    {
     "data": {
      "text/plain": [
       "Index(['Name_1', 'Level_1', 'Price_1', 'HP_1', 'Attack_1', 'Defense_1',\n",
       "       'Sp_Atk_1', 'Sp_Def_1', 'Speed_1', 'Legendary_1', 'Name_2', 'Level_2',\n",
       "       'Price_2', 'HP_2', 'Attack_2', 'Defense_2', 'Sp_Atk_2', 'Sp_Def_2',\n",
       "       'Speed_2', 'Legendary_2', 'WeatherAndTime', 'BattleResult', 'ID_1',\n",
       "       'Type_1_1', 'Type_2_1', 'ID_2', 'Type_1_2', 'Type_2_2', 'Type_1_1_a',\n",
       "       'Type_1_1_b', 'Type_1_1_c', 'Type_1_1_d', 'Type_1_1_e', 'Type_1_2_a',\n",
       "       'Type_1_2_b', 'Type_1_2_c', 'Type_1_2_d', 'Type_1_2_e', 'Type_2_1_a',\n",
       "       'Type_2_1_b', 'Type_2_1_c', 'Type_2_1_d', 'Type_2_1_e', 'Type_2_2_a',\n",
       "       'Type_2_2_b', 'Type_2_2_c', 'Type_2_2_d', 'Type_2_2_e',\n",
       "       'WeatherAndTime_a', 'WeatherAndTime_b', 'WeatherAndTime_c',\n",
       "       'WeatherAndTime_d', 'WeatherAndTime_e', 'A1/D2', 'A2/D1', 'Sp_A1/Sp_D2',\n",
       "       'Sp_A2/Sp_D1', 'value_1_1ab', 'value_1_1ba', 'Eff_11', 'value_1_2ab',\n",
       "       'value_2_1ba', 'Eff_12', 'value_2_1ab', 'value_1_2ba', 'Eff_21',\n",
       "       'value_2_2ab', 'value_2_2ba', 'Eff_22', 'Eff'],\n",
       "      dtype='object')"
      ]
     },
     "execution_count": 5,
     "metadata": {},
     "output_type": "execute_result"
    }
   ],
   "source": [
    "battle_results_with_weakness.keys()"
   ]
  },
  {
   "cell_type": "code",
   "execution_count": 43,
   "metadata": {},
   "outputs": [],
   "source": [
    "import logging\n",
    "from typing import Dict, List\n",
    "\n",
    "import numpy as np\n",
    "import pandas as pd\n",
    "from sklearn.linear_model import LinearRegression\n",
    "from sklearn.metrics import r2_score, mean_squared_error \n",
    "from sklearn.model_selection import train_test_split\n",
    "\n",
    "\n",
    "def split_data(data: pd.DataFrame, parameters: Dict) -> List:\n",
    "    \"\"\"Splits data into training and test sets.\n",
    "\n",
    "        Args:\n",
    "            data: Source data.\n",
    "            parameters: Parameters defined in parameters.yml.\n",
    "\n",
    "        Returns:\n",
    "            A list containing split data.\n",
    "\n",
    "    \"\"\"\n",
    "    X = data[\n",
    "        [   'Level_1', \n",
    "            #'Price_1', \n",
    "            'HP_1', \n",
    "            'Attack_1', \n",
    "            'Defense_1',\n",
    "            'Sp_Atk_1', \n",
    "            'Sp_Def_1', \n",
    "            'Speed_1', \n",
    "            'Legendary_1',\n",
    "         \n",
    "            'A1/D2',\n",
    "            'A2/D1',\n",
    "            'Sp_A1/Sp_D2',\n",
    "            'Sp_A2/Sp_D1',\n",
    "         \n",
    "            'Eff_11',\n",
    "            'Eff_12',\n",
    "            'Eff_21',\n",
    "            'Eff_22',\n",
    "            'Eff',\n",
    "\n",
    "            'Level_2',\n",
    "            #'Price_2', \n",
    "            'HP_2', \n",
    "            'Attack_2', \n",
    "            'Defense_2', \n",
    "            'Sp_Atk_2', \n",
    "            'Sp_Def_2',\n",
    "            'Speed_2', \n",
    "            'Legendary_2', \n",
    "         \n",
    "            'WeatherAndTime_a', 'WeatherAndTime_b', 'WeatherAndTime_c',\n",
    "            'WeatherAndTime_d', 'WeatherAndTime_e',\n",
    "         \n",
    "            'Type_1_1_a', 'Type_1_1_b', 'Type_1_1_c', 'Type_1_1_d', 'Type_1_1_e', \n",
    "            'Type_1_2_a', 'Type_1_2_b', 'Type_1_2_c', 'Type_1_2_d', 'Type_1_2_e', \n",
    "            'Type_2_1_a', 'Type_2_1_b', 'Type_2_1_c', 'Type_2_1_d', 'Type_2_1_e', \n",
    "            'Type_2_2_a', 'Type_2_2_b', 'Type_2_2_c', 'Type_2_2_d', 'Type_2_2_e',\n",
    "         #0,1,2,3,4,\n",
    "         # 'WeatherAndTime',\n",
    "        ]\n",
    "    ].values\n",
    "    y = data[\"BattleResult\"].values\n",
    "    X_train, X_test, y_train, y_test = train_test_split(\n",
    "        X, y, test_size=parameters[\"test_size\"], random_state=parameters[\"random_state\"]\n",
    "    )\n",
    "\n",
    "    return [X_train, X_test, y_train, y_test]\n",
    "\n",
    "\n",
    "def train_model(X_train: np.ndarray, y_train: np.ndarray) -> LinearRegression:\n",
    "    \"\"\"Train the linear regression model.\n",
    "\n",
    "        Args:\n",
    "            X_train: Training data of independent features.\n",
    "            y_train: Training data for price.\n",
    "\n",
    "        Returns:\n",
    "            Trained model.\n",
    "\n",
    "    \"\"\"\n",
    "    regressor = LinearRegression()\n",
    "    regressor.fit(X_train, y_train)\n",
    "    return regressor\n",
    "\n",
    "\n",
    "def evaluate_model(regressor: LinearRegression, X_test: np.ndarray, y_test: np.ndarray):\n",
    "    \"\"\"Calculate the coefficient of determination and log the result.\n",
    "\n",
    "        Args:\n",
    "            regressor: Trained model.\n",
    "            X_test: Testing data of independent features.\n",
    "            y_test: Testing data for price.\n",
    "\n",
    "    \"\"\"\n",
    "    y_pred = regressor.predict(X_test)\n",
    "    print(y_pred, y_test, sum((y_pred-y_test)**2)/len(y_test))\n",
    "    score = r2_score(y_test, y_pred)\n",
    "    MSE = mean_squared_error(y_test,y_pred) \n",
    "    \n",
    "    logger = logging.getLogger(__name__)\n",
    "    logger.info(\"Model has a coefficient R^2 of %.3f.\", score)\n",
    "    logger.info(\"and a Mean Squared Error of %.3f.\", MSE )\n",
    "#     plt.scatter(X_test, y_test)\n",
    "\n",
    "    #Plot for actual and prediction\n",
    "    a = plt.axes(aspect='equal')\n",
    "    plt.scatter(y_test, y_pred)\n",
    "    plt.xlabel('Actuals [BattleResult]')\n",
    "    plt.ylabel('Predictions [BattleResult]')\n",
    "    lims = [-2500,2500]\n",
    "    plt.xlim(lims)\n",
    "    plt.ylim(lims)\n",
    "    _ = plt.plot(lims, lims, c=\"orange\")\n",
    "    plt.show()\n",
    "\n",
    "#     plt.scatter(y_test, y_pred)#, color='red')\n",
    "#     plt.show()"
   ]
  },
  {
   "cell_type": "code",
   "execution_count": 40,
   "metadata": {},
   "outputs": [],
   "source": [
    "params = dict({'test_size': 0.2, 'random_state': 3})\n",
    "\n",
    "X_train, X_test, y_train, y_test = split_data(battle_results_with_weakness, params)"
   ]
  },
  {
   "cell_type": "code",
   "execution_count": 41,
   "metadata": {},
   "outputs": [],
   "source": [
    "regressor = train_model(X_train, y_train)"
   ]
  },
  {
   "cell_type": "code",
   "execution_count": 42,
   "metadata": {},
   "outputs": [
    {
     "name": "stdout",
     "output_type": "stream",
     "text": [
      "[ 154.00194036  -84.81605043 -209.50868495 ...  121.66232666  824.25864805\n",
      "  372.79787133] [ 170  -60 -249 ...  147  647  584] [  255.93791238   615.83635908  1559.56396437 ...   641.99769012\n",
      " 31420.62830769 44606.33915684]\n",
      "2020-05-30 19:38:38,591 - __main__ - INFO - Model has a coefficient R^2 of 0.897.\n"
     ]
    }
   ],
   "source": [
    "evaluate_model(regressor, X_test, y_test)"
   ]
  },
  {
   "cell_type": "code",
   "execution_count": 1,
   "metadata": {},
   "outputs": [
    {
     "name": "stdout",
     "output_type": "stream",
     "text": [
      "2020-05-30 21:05:22,507 - kedro.io.data_catalog - INFO - Loading data from `battle_results_diff_ratio` (CSVDataSet)...\n"
     ]
    },
    {
     "name": "stderr",
     "output_type": "stream",
     "text": [
      "/Users/lucazurmuehle/anaconda3/envs/pokehack/lib/python3.6/site-packages/kedro/io/data_catalog.py:358: DtypeWarning: Columns (24,27) have mixed types.Specify dtype option on import or set low_memory=False.\n",
      "  result = func()\n"
     ]
    }
   ],
   "source": [
    "# Now for the Data with differences and ratios\n",
    "\n",
    "battle_results_diff_ratio = catalog.load(\"battle_results_diff_ratio\")"
   ]
  },
  {
   "cell_type": "code",
   "execution_count": 12,
   "metadata": {},
   "outputs": [
    {
     "data": {
      "text/plain": [
       "Index(['Name_1', 'Level_1', 'Price_1', 'HP_1', 'Attack_1', 'Defense_1',\n",
       "       'Sp_Atk_1', 'Sp_Def_1', 'Speed_1', 'Legendary_1', 'Name_2', 'Level_2',\n",
       "       'Price_2', 'HP_2', 'Attack_2', 'Defense_2', 'Sp_Atk_2', 'Sp_Def_2',\n",
       "       'Speed_2', 'Legendary_2', 'WeatherAndTime', 'BattleResult', 'ID_1',\n",
       "       'Type_1_1', 'Type_2_1', 'ID_2', 'Type_1_2', 'Type_2_2', 'Type_1_1_a',\n",
       "       'Type_1_1_b', 'Type_1_1_c', 'Type_1_1_d', 'Type_1_1_e', 'Type_1_2_a',\n",
       "       'Type_1_2_b', 'Type_1_2_c', 'Type_1_2_d', 'Type_1_2_e', 'Type_2_1_a',\n",
       "       'Type_2_1_b', 'Type_2_1_c', 'Type_2_1_d', 'Type_2_1_e', 'Type_2_2_a',\n",
       "       'Type_2_2_b', 'Type_2_2_c', 'Type_2_2_d', 'Type_2_2_e',\n",
       "       'WeatherAndTime_a', 'WeatherAndTime_b', 'WeatherAndTime_c',\n",
       "       'WeatherAndTime_d', 'WeatherAndTime_e', 'A1/D2', 'A2/D1', 'Sp_A1/Sp_D2',\n",
       "       'Sp_A2/Sp_D1', 'value_1_1ab', 'value_1_1ba', 'Eff_11', 'value_1_2ab',\n",
       "       'value_2_1ba', 'Eff_12', 'value_2_1ab', 'value_1_2ba', 'Eff_21',\n",
       "       'value_2_2ab', 'value_2_2ba', 'Eff_22', 'Eff', 'Level Diff',\n",
       "       'Level Ratio', 'Price Diff', 'Price Ratio', 'HP Diff', 'HP Ratio',\n",
       "       'Attack Diff', 'Attack Ratio', 'Defense Diff', 'Defense Ratio',\n",
       "       'Sp_Atk Diff', 'Sp_Atk Ratio', 'Sp_Def Diff', 'Sp_Def Ratio',\n",
       "       'Speed Diff', 'Speed Ratio', 'A/D Diff', 'A/D Ratio', 'Sp_A/Sp_D Diff',\n",
       "       'Sp_A/Sp_D Ratio', 'Legendary Diff', 'Eff_11 Diff', 'Eff_12 Diff',\n",
       "       'Eff_21 Diff', 'Eff_22 Diff', 'Eff Diff'],\n",
       "      dtype='object')"
      ]
     },
     "execution_count": 12,
     "metadata": {},
     "output_type": "execute_result"
    }
   ],
   "source": [
    "battle_results_diff_ratio.keys()"
   ]
  },
  {
   "cell_type": "code",
   "execution_count": 53,
   "metadata": {},
   "outputs": [],
   "source": [
    "from sklearn import preprocessing"
   ]
  },
  {
   "cell_type": "code",
   "execution_count": 75,
   "metadata": {},
   "outputs": [],
   "source": [
    "# Choose Values in Dataset which should be scaled\n",
    "x = battle_results_diff_ratio[['Level_1', 'Price_1']].values"
   ]
  },
  {
   "cell_type": "code",
   "execution_count": 76,
   "metadata": {},
   "outputs": [
    {
     "name": "stdout",
     "output_type": "stream",
     "text": [
      "[[  30  441]\n",
      " [  15  297]\n",
      " [  97 2007]\n",
      " ...\n",
      " [  28  975]\n",
      " [  66 2551]\n",
      " [  46 1590]]\n"
     ]
    }
   ],
   "source": [
    "print(x)"
   ]
  },
  {
   "cell_type": "code",
   "execution_count": 77,
   "metadata": {},
   "outputs": [
    {
     "name": "stdout",
     "output_type": "stream",
     "text": [
      "[[0.29591837 0.03109594]\n",
      " [0.14285714 0.01289344]\n",
      " [0.97959184 0.22904816]\n",
      " ...\n",
      " [0.2755102  0.09859689]\n",
      " [0.66326531 0.29781317]\n",
      " [0.45918367 0.17633675]]\n"
     ]
    },
    {
     "name": "stderr",
     "output_type": "stream",
     "text": [
      "/Users/lucazurmuehle/anaconda3/envs/pokehack/lib/python3.6/site-packages/sklearn/utils/validation.py:595: DataConversionWarning: Data with input dtype int64 was converted to float64 by MinMaxScaler.\n",
      "  warnings.warn(msg, DataConversionWarning)\n"
     ]
    }
   ],
   "source": [
    "# x = df.values #returns a numpy array\n",
    "min_max_scaler = preprocessing.MinMaxScaler()\n",
    "x_scaled = min_max_scaler.fit_transform(x)\n",
    "print(x_scaled)"
   ]
  },
  {
   "cell_type": "code",
   "execution_count": 78,
   "metadata": {},
   "outputs": [
    {
     "name": "stderr",
     "output_type": "stream",
     "text": [
      "/Users/lucazurmuehle/anaconda3/envs/pokehack/lib/python3.6/site-packages/sklearn/utils/validation.py:595: DataConversionWarning: Data with input dtype int64 was converted to float64 by MinMaxScaler.\n",
      "  warnings.warn(msg, DataConversionWarning)\n"
     ]
    },
    {
     "data": {
      "text/plain": [
       "array([[0.29591837, 0.03109594],\n",
       "       [0.14285714, 0.01289344],\n",
       "       [0.97959184, 0.22904816],\n",
       "       ...,\n",
       "       [0.2755102 , 0.09859689],\n",
       "       [0.66326531, 0.29781317],\n",
       "       [0.45918367, 0.17633675]])"
      ]
     },
     "execution_count": 78,
     "metadata": {},
     "output_type": "execute_result"
    }
   ],
   "source": [
    "min_max_scaler.fit_transform(battle_results_diff_ratio[['Level_1', 'Price_1']].values)"
   ]
  },
  {
   "cell_type": "code",
   "execution_count": 86,
   "metadata": {},
   "outputs": [
    {
     "data": {
      "text/plain": [
       "Index(['Name_1', 'Level_1', 'Price_1', 'HP_1', 'Attack_1', 'Defense_1',\n",
       "       'Sp_Atk_1', 'Sp_Def_1', 'Speed_1', 'Legendary_1', 'Name_2', 'Level_2',\n",
       "       'Price_2', 'HP_2', 'Attack_2', 'Defense_2', 'Sp_Atk_2', 'Sp_Def_2',\n",
       "       'Speed_2', 'Legendary_2', 'WeatherAndTime', 'BattleResult', 'ID_1',\n",
       "       'Type_1_1', 'Type_2_1', 'ID_2', 'Type_1_2', 'Type_2_2', 'Type_1_1_a',\n",
       "       'Type_1_1_b', 'Type_1_1_c', 'Type_1_1_d', 'Type_1_1_e', 'Type_1_2_a',\n",
       "       'Type_1_2_b', 'Type_1_2_c', 'Type_1_2_d', 'Type_1_2_e', 'Type_2_1_a',\n",
       "       'Type_2_1_b', 'Type_2_1_c', 'Type_2_1_d', 'Type_2_1_e', 'Type_2_2_a',\n",
       "       'Type_2_2_b', 'Type_2_2_c', 'Type_2_2_d', 'Type_2_2_e',\n",
       "       'WeatherAndTime_a', 'WeatherAndTime_b', 'WeatherAndTime_c',\n",
       "       'WeatherAndTime_d', 'WeatherAndTime_e', 'A1/D2', 'A2/D1', 'Sp_A1/Sp_D2',\n",
       "       'Sp_A2/Sp_D1', 'value_1_1ab', 'value_1_1ba', 'Eff_11', 'value_1_2ab',\n",
       "       'value_2_1ba', 'Eff_12', 'value_2_1ab', 'value_1_2ba', 'Eff_21',\n",
       "       'value_2_2ab', 'value_2_2ba', 'Eff_22', 'Eff', 'Level Diff',\n",
       "       'Level Ratio', 'Price Diff', 'Price Ratio', 'HP Diff', 'HP Ratio',\n",
       "       'Attack Diff', 'Attack Ratio', 'Defense Diff', 'Defense Ratio',\n",
       "       'Sp_Atk Diff', 'Sp_Atk Ratio', 'Sp_Def Diff', 'Sp_Def Ratio',\n",
       "       'Speed Diff', 'Speed Ratio', 'A/D Diff', 'A/D Ratio', 'Sp_A/Sp_D Diff',\n",
       "       'Sp_A/Sp_D Ratio', 'Legendary Diff', 'Eff_11 Diff', 'Eff_12 Diff',\n",
       "       'Eff_21 Diff', 'Eff_22 Diff', 'Eff Diff'],\n",
       "      dtype='object')"
      ]
     },
     "execution_count": 86,
     "metadata": {},
     "output_type": "execute_result"
    }
   ],
   "source": [
    "battle_results_diff_ratio.keys()"
   ]
  },
  {
   "cell_type": "code",
   "execution_count": 91,
   "metadata": {},
   "outputs": [],
   "source": [
    "column_maxes = battle_results_diff_ratio[['Level_1', 'Price_1', 'HP_1', 'Attack_1', 'Defense_1',\n",
    "       'Sp_Atk_1', 'Sp_Def_1', 'Speed_1', 'Legendary_1', 'Level_2',\n",
    "       'Price_2', 'HP_2', 'Attack_2', 'Defense_2', 'Sp_Atk_2', 'Sp_Def_2',\n",
    "       'Speed_2', 'Legendary_2',\n",
    "#        'Type_1_1', 'Type_2_1', 'Type_1_2', 'Type_2_2', 'Type_1_1_a',\n",
    "#        'Type_1_1_b', 'Type_1_1_c', 'Type_1_1_d', 'Type_1_1_e', 'Type_1_2_a',\n",
    "#        'Type_1_2_b', 'Type_1_2_c', 'Type_1_2_d', 'Type_1_2_e', 'Type_2_1_a',\n",
    "#        'Type_2_1_b', 'Type_2_1_c', 'Type_2_1_d', 'Type_2_1_e', 'Type_2_2_a',\n",
    "#        'Type_2_2_b', 'Type_2_2_c', 'Type_2_2_d', 'Type_2_2_e',\n",
    "#        'WeatherAndTime_a', 'WeatherAndTime_b', 'WeatherAndTime_c',\n",
    "#        'WeatherAndTime_d', 'WeatherAndTime_e', '\n",
    "       'A1/D2', 'A2/D1', 'Sp_A1/Sp_D2',\n",
    "       'Sp_A2/Sp_D1', 'value_1_1ab', 'value_1_1ba', 'Eff_11', 'value_1_2ab',\n",
    "       'value_2_1ba', 'Eff_12', 'value_2_1ab', 'value_1_2ba', 'Eff_21',\n",
    "       'value_2_2ab', 'value_2_2ba', 'Eff_22', 'Eff', 'Level Diff',\n",
    "       'Level Ratio', 'Price Diff', 'Price Ratio', 'HP Diff', 'HP Ratio',\n",
    "       'Attack Diff', 'Attack Ratio', 'Defense Diff', 'Defense Ratio',\n",
    "       'Sp_Atk Diff', 'Sp_Atk Ratio', 'Sp_Def Diff', 'Sp_Def Ratio',\n",
    "       'Speed Diff', 'Speed Ratio', 'A/D Diff', 'A/D Ratio', 'Sp_A/Sp_D Diff',\n",
    "       'Sp_A/Sp_D Ratio', 'Legendary Diff', 'Eff_11 Diff', 'Eff_12 Diff',\n",
    "       'Eff_21 Diff', 'Eff_22 Diff', 'Eff Diff']].max()\n",
    "df_max = column_maxes.max()\n",
    "column_mins = battle_results_diff_ratio[['Level_1', 'Price_1', 'HP_1', 'Attack_1', 'Defense_1',\n",
    "       'Sp_Atk_1', 'Sp_Def_1', 'Speed_1', 'Legendary_1', 'Level_2',\n",
    "       'Price_2', 'HP_2', 'Attack_2', 'Defense_2', 'Sp_Atk_2', 'Sp_Def_2',\n",
    "       'Speed_2', 'Legendary_2',\n",
    "#        'Type_1_1', 'Type_2_1', 'Type_1_2', 'Type_2_2', 'Type_1_1_a',\n",
    "#        'Type_1_1_b', 'Type_1_1_c', 'Type_1_1_d', 'Type_1_1_e', 'Type_1_2_a',\n",
    "#        'Type_1_2_b', 'Type_1_2_c', 'Type_1_2_d', 'Type_1_2_e', 'Type_2_1_a',\n",
    "#        'Type_2_1_b', 'Type_2_1_c', 'Type_2_1_d', 'Type_2_1_e', 'Type_2_2_a',\n",
    "#        'Type_2_2_b', 'Type_2_2_c', 'Type_2_2_d', 'Type_2_2_e',\n",
    "#        'WeatherAndTime_a', 'WeatherAndTime_b', 'WeatherAndTime_c',\n",
    "#        'WeatherAndTime_d', 'WeatherAndTime_e', '\n",
    "       'A1/D2', 'A2/D1', 'Sp_A1/Sp_D2',\n",
    "       'Sp_A2/Sp_D1', 'value_1_1ab', 'value_1_1ba', 'Eff_11', 'value_1_2ab',\n",
    "       'value_2_1ba', 'Eff_12', 'value_2_1ab', 'value_1_2ba', 'Eff_21',\n",
    "       'value_2_2ab', 'value_2_2ba', 'Eff_22', 'Eff', 'Level Diff',\n",
    "       'Level Ratio', 'Price Diff', 'Price Ratio', 'HP Diff', 'HP Ratio',\n",
    "       'Attack Diff', 'Attack Ratio', 'Defense Diff', 'Defense Ratio',\n",
    "       'Sp_Atk Diff', 'Sp_Atk Ratio', 'Sp_Def Diff', 'Sp_Def Ratio',\n",
    "       'Speed Diff', 'Speed Ratio', 'A/D Diff', 'A/D Ratio', 'Sp_A/Sp_D Diff',\n",
    "       'Sp_A/Sp_D Ratio', 'Legendary Diff', 'Eff_11 Diff', 'Eff_12 Diff',\n",
    "       'Eff_21 Diff', 'Eff_22 Diff', 'Eff Diff']].min()\n",
    "df_min = column_mins.min()\n",
    "\n",
    "battle_results_diff_ratio[['Level_1', 'Price_1', 'HP_1', 'Attack_1', 'Defense_1',\n",
    "       'Sp_Atk_1', 'Sp_Def_1', 'Speed_1', 'Legendary_1', 'Level_2',\n",
    "       'Price_2', 'HP_2', 'Attack_2', 'Defense_2', 'Sp_Atk_2', 'Sp_Def_2',\n",
    "       'Speed_2', 'Legendary_2',\n",
    "#        'Type_1_1', 'Type_2_1', 'Type_1_2', 'Type_2_2', 'Type_1_1_a',\n",
    "#        'Type_1_1_b', 'Type_1_1_c', 'Type_1_1_d', 'Type_1_1_e', 'Type_1_2_a',\n",
    "#        'Type_1_2_b', 'Type_1_2_c', 'Type_1_2_d', 'Type_1_2_e', 'Type_2_1_a',\n",
    "#        'Type_2_1_b', 'Type_2_1_c', 'Type_2_1_d', 'Type_2_1_e', 'Type_2_2_a',\n",
    "#        'Type_2_2_b', 'Type_2_2_c', 'Type_2_2_d', 'Type_2_2_e',\n",
    "#        'WeatherAndTime_a', 'WeatherAndTime_b', 'WeatherAndTime_c',\n",
    "#        'WeatherAndTime_d', 'WeatherAndTime_e', '\n",
    "       'A1/D2', 'A2/D1', 'Sp_A1/Sp_D2',\n",
    "       'Sp_A2/Sp_D1', 'value_1_1ab', 'value_1_1ba', 'Eff_11', 'value_1_2ab',\n",
    "       'value_2_1ba', 'Eff_12', 'value_2_1ab', 'value_1_2ba', 'Eff_21',\n",
    "       'value_2_2ab', 'value_2_2ba', 'Eff_22', 'Eff', 'Level Diff',\n",
    "       'Level Ratio', 'Price Diff', 'Price Ratio', 'HP Diff', 'HP Ratio',\n",
    "       'Attack Diff', 'Attack Ratio', 'Defense Diff', 'Defense Ratio',\n",
    "       'Sp_Atk Diff', 'Sp_Atk Ratio', 'Sp_Def Diff', 'Sp_Def Ratio',\n",
    "       'Speed Diff', 'Speed Ratio', 'A/D Diff', 'A/D Ratio', 'Sp_A/Sp_D Diff',\n",
    "       'Sp_A/Sp_D Ratio', 'Legendary Diff', 'Eff_11 Diff', 'Eff_12 Diff',\n",
    "       'Eff_21 Diff', 'Eff_22 Diff', 'Eff Diff']]\\\n",
    "= (battle_results_diff_ratio[['Level_1', 'Price_1', 'HP_1', 'Attack_1', 'Defense_1',\n",
    "       'Sp_Atk_1', 'Sp_Def_1', 'Speed_1', 'Legendary_1', 'Level_2',\n",
    "       'Price_2', 'HP_2', 'Attack_2', 'Defense_2', 'Sp_Atk_2', 'Sp_Def_2',\n",
    "       'Speed_2', 'Legendary_2',\n",
    "#        'Type_1_1', 'Type_2_1', 'Type_1_2', 'Type_2_2', 'Type_1_1_a',\n",
    "#        'Type_1_1_b', 'Type_1_1_c', 'Type_1_1_d', 'Type_1_1_e', 'Type_1_2_a',\n",
    "#        'Type_1_2_b', 'Type_1_2_c', 'Type_1_2_d', 'Type_1_2_e', 'Type_2_1_a',\n",
    "#        'Type_2_1_b', 'Type_2_1_c', 'Type_2_1_d', 'Type_2_1_e', 'Type_2_2_a',\n",
    "#        'Type_2_2_b', 'Type_2_2_c', 'Type_2_2_d', 'Type_2_2_e',\n",
    "#        'WeatherAndTime_a', 'WeatherAndTime_b', 'WeatherAndTime_c',\n",
    "#        'WeatherAndTime_d', 'WeatherAndTime_e', '\n",
    "       'A1/D2', 'A2/D1', 'Sp_A1/Sp_D2',\n",
    "       'Sp_A2/Sp_D1', 'value_1_1ab', 'value_1_1ba', 'Eff_11', 'value_1_2ab',\n",
    "       'value_2_1ba', 'Eff_12', 'value_2_1ab', 'value_1_2ba', 'Eff_21',\n",
    "       'value_2_2ab', 'value_2_2ba', 'Eff_22', 'Eff', 'Level Diff',\n",
    "       'Level Ratio', 'Price Diff', 'Price Ratio', 'HP Diff', 'HP Ratio',\n",
    "       'Attack Diff', 'Attack Ratio', 'Defense Diff', 'Defense Ratio',\n",
    "       'Sp_Atk Diff', 'Sp_Atk Ratio', 'Sp_Def Diff', 'Sp_Def Ratio',\n",
    "       'Speed Diff', 'Speed Ratio', 'A/D Diff', 'A/D Ratio', 'Sp_A/Sp_D Diff',\n",
    "       'Sp_A/Sp_D Ratio', 'Legendary Diff', 'Eff_11 Diff', 'Eff_12 Diff',\n",
    "       'Eff_21 Diff', 'Eff_22 Diff', 'Eff Diff']] - df_min) / (df_max - df_min)"
   ]
  },
  {
   "cell_type": "code",
   "execution_count": 88,
   "metadata": {},
   "outputs": [
    {
     "name": "stdout",
     "output_type": "stream",
     "text": [
      "Level_1           99.000000\n",
      "Price_1         8106.000000\n",
      "HP_1            2312.000000\n",
      "Attack_1        1865.000000\n",
      "Defense_1       2336.000000\n",
      "                   ...     \n",
      "Eff_11 Diff       83.321333\n",
      "Eff_12 Diff       83.321333\n",
      "Eff_21 Diff       33.303333\n",
      "Eff_22 Diff        9.900000\n",
      "Eff Diff       83333.333321\n",
      "Length: 61, dtype: float64 116986.88 -83333.33332133332\n",
      "          Level_1   Price_1      HP_1  Attack_1  Defense_1  Sp_Atk_1  \\\n",
      "0        0.416150  0.418202  0.416749  0.416180   0.416515  0.416235   \n",
      "1        0.416076  0.417483  0.416460  0.416130   0.416365  0.416165   \n",
      "2        0.416485  0.426020  0.419460  0.416804   0.418312  0.417089   \n",
      "3        0.416310  0.420404  0.417513  0.416350   0.417024  0.416480   \n",
      "4        0.416425  0.423728  0.418671  0.416620   0.417783  0.416839   \n",
      "...           ...       ...       ...       ...        ...       ...   \n",
      "2719158  0.416026  0.418751  0.416340  0.416390   0.416450  0.416525   \n",
      "2719159  0.416220  0.423838  0.417149  0.417069   0.417244  0.417448   \n",
      "2719160  0.416140  0.420868  0.416709  0.416660   0.416774  0.416904   \n",
      "2719161  0.416330  0.428735  0.417903  0.417733   0.418012  0.418342   \n",
      "2719162  0.416230  0.423938  0.417164  0.417084   0.417259  0.417468   \n",
      "\n",
      "         Sp_Def_1   Speed_1  Legendary_1   Level_2  ...  A/D Diff  A/D Ratio  \\\n",
      "0        0.416235  0.416290     0.416001  0.416235  ...  0.415982   0.416001   \n",
      "1        0.416165  0.416200     0.416001  0.416445  ...  0.415918   0.416001   \n",
      "2        0.417089  0.417269     0.416001  0.416335  ...  0.415996   0.416002   \n",
      "3        0.416480  0.416560     0.416001  0.416185  ...  0.415994   0.416002   \n",
      "4        0.416839  0.416979     0.416001  0.416420  ...  0.415987   0.416001   \n",
      "...           ...       ...          ...       ...  ...       ...        ...   \n",
      "2719158  0.416450  0.416600     0.416001  0.416450  ...  0.415965   0.416001   \n",
      "2719159  0.417244  0.417688     0.416001  0.416385  ...  0.415994   0.416002   \n",
      "2719160  0.416774  0.417049     0.416001  0.416465  ...  0.415978   0.416001   \n",
      "2719161  0.418012  0.418736     0.416001  0.416295  ...  0.416003   0.416009   \n",
      "2719162  0.417259  0.417708     0.416001  0.416405  ...  0.415993   0.416002   \n",
      "\n",
      "         Sp_A/Sp_D Diff  Sp_A/Sp_D Ratio  Legendary Diff  Eff_11 Diff  \\\n",
      "0              0.415984         0.416001        0.416001     0.416001   \n",
      "1              0.415925         0.416001        0.416001     0.416001   \n",
      "2              0.415998         0.416003        0.416001     0.416001   \n",
      "3              0.415996         0.416003        0.416001     0.416001   \n",
      "4              0.415989         0.416001        0.416001     0.416001   \n",
      "...                 ...              ...             ...          ...   \n",
      "2719158        0.415981         0.416001        0.416001     0.416001   \n",
      "2719159        0.416001         0.416006        0.416001     0.416001   \n",
      "2719160        0.415989         0.416001        0.416001     0.416001   \n",
      "2719161        0.416012         0.416030        0.416001     0.416001   \n",
      "2719162        0.416000         0.416005        0.416001     0.416001   \n",
      "\n",
      "         Eff_12 Diff  Eff_21 Diff  Eff_22 Diff  Eff Diff  \n",
      "0           0.416001     0.416001     0.416001  0.416001  \n",
      "1           0.416001     0.416001     0.416001  0.416001  \n",
      "2           0.416001     0.416001     0.416001  0.416001  \n",
      "3           0.416001     0.416001     0.416001  0.416001  \n",
      "4           0.416001     0.416001     0.416001  0.416001  \n",
      "...              ...          ...          ...       ...  \n",
      "2719158     0.416001     0.416001     0.416001  0.416001  \n",
      "2719159     0.416001     0.416001     0.416001  0.416001  \n",
      "2719160     0.416001     0.416001     0.416001  0.416001  \n",
      "2719161     0.416001     0.416001     0.416001  0.416001  \n",
      "2719162     0.416001     0.416001     0.416001  0.416001  \n",
      "\n",
      "[2719163 rows x 61 columns]\n"
     ]
    }
   ],
   "source": [
    "print(column_maxes, df_max, df_min)\n",
    "print(normalized_df)"
   ]
  },
  {
   "cell_type": "code",
   "execution_count": 144,
   "metadata": {},
   "outputs": [],
   "source": [
    "import logging\n",
    "from typing import Dict, List\n",
    "\n",
    "import numpy as np\n",
    "import pandas as pd\n",
    "from sklearn.linear_model import LinearRegression\n",
    "from sklearn.metrics import r2_score, mean_squared_error \n",
    "from sklearn.model_selection import train_test_split\n",
    "import matplotlib.pyplot as plt\n",
    "\n",
    "\n",
    "def split_data(data: pd.DataFrame, parameters: Dict) -> List:\n",
    "    \"\"\"Splits data into training and test sets.\n",
    "\n",
    "        Args:\n",
    "            data: Source data.\n",
    "            parameters: Parameters defined in parameters.yml.\n",
    "\n",
    "        Returns:\n",
    "            A list containing split data.\n",
    "\n",
    "    \"\"\"\n",
    "    X = data[\n",
    "         [\n",
    "            'Level_1', \n",
    "            'Price_1', \n",
    "            'HP_1', \n",
    "            'Attack_1', \n",
    "            'Defense_1',\n",
    "            'Sp_Atk_1', \n",
    "            'Sp_Def_1', \n",
    "            'Speed_1', \n",
    "            'Legendary_1',\n",
    "         \n",
    "            'A1/D2',\n",
    "            'A2/D1',\n",
    "            'Sp_A1/Sp_D2',\n",
    "            'Sp_A2/Sp_D1',\n",
    "             \n",
    "            'value_1_1ab', 'value_1_1ba', \n",
    "            'value_1_2ab', 'value_2_1ba', \n",
    "            'value_2_1ab', 'value_1_2ba',\n",
    "            'value_2_2ab', 'value_2_2ba',\n",
    "         \n",
    "            'Eff_11',\n",
    "            'Eff_12',\n",
    "            'Eff_21',\n",
    "            'Eff_22',\n",
    "            'Eff',\n",
    "\n",
    "            'Level_2',\n",
    "            'Price_2', \n",
    "            'HP_2', \n",
    "            'Attack_2', \n",
    "            'Defense_2', \n",
    "            'Sp_Atk_2', \n",
    "            'Sp_Def_2',\n",
    "            'Speed_2', \n",
    "            'Legendary_2', \n",
    "         \n",
    "            'WeatherAndTime_a', 'WeatherAndTime_b', 'WeatherAndTime_c',\n",
    "            'WeatherAndTime_d', 'WeatherAndTime_e',\n",
    "         \n",
    "            'Type_1_1_a', 'Type_1_1_b', 'Type_1_1_c', 'Type_1_1_d', 'Type_1_1_e', \n",
    "            'Type_1_2_a', 'Type_1_2_b', 'Type_1_2_c', 'Type_1_2_d', 'Type_1_2_e', \n",
    "            'Type_2_1_a', 'Type_2_1_b', 'Type_2_1_c', 'Type_2_1_d', 'Type_2_1_e', \n",
    "            'Type_2_2_a', 'Type_2_2_b', 'Type_2_2_c', 'Type_2_2_d', 'Type_2_2_e',\n",
    "         \n",
    "         \n",
    "            'Level Diff',\n",
    "            'Level Ratio', \n",
    "            'Price Diff', \n",
    "            'Price Ratio', \n",
    "            'HP Diff', \n",
    "            'HP Ratio',\n",
    "            'Attack Diff', \n",
    "            'Attack Ratio', \n",
    "            'Defense Diff', \n",
    "            'Defense Ratio',\n",
    "            'Sp_Atk Diff', \n",
    "            'Sp_Atk Ratio', \n",
    "            'Sp_Def Diff', \n",
    "            'Sp_Def Ratio',\n",
    "            'Speed Diff', \n",
    "            'Speed Ratio', \n",
    "            'A/D Diff', \n",
    "            'A/D Ratio', \n",
    "            'Sp_A/Sp_D Diff',\n",
    "            'Sp_A/Sp_D Ratio', \n",
    "            'Legendary Diff', \n",
    "            'Eff_11 Diff', \n",
    "            'Eff_12 Diff',\n",
    "            'Eff_21 Diff', \n",
    "            'Eff_22 Diff', \n",
    "            'Eff Diff'\n",
    "         #0,1,2,3,4,\n",
    "         # 'WeatherAndTime',\n",
    "        ]\n",
    "    ].values\n",
    "    y = data[\"BattleResult\"].values\n",
    "    X_train, X_test, y_train, y_test = train_test_split(\n",
    "        X, y, test_size=parameters[\"test_size\"], random_state=parameters[\"random_state\"]\n",
    "    )\n",
    "\n",
    "    return [X_train, X_test, y_train, y_test]"
   ]
  },
  {
   "cell_type": "code",
   "execution_count": 148,
   "metadata": {},
   "outputs": [],
   "source": [
    "params = dict({'test_size': 0.2, 'random_state': 42})\n",
    "\n",
    "X_train_diff, X_test_diff, y_train_diff, y_test_diff = split_data(battle_results_diff_ratio, params)"
   ]
  },
  {
   "cell_type": "code",
   "execution_count": 149,
   "metadata": {},
   "outputs": [],
   "source": [
    "regressor = train_model(X_train_diff, y_train_diff)"
   ]
  },
  {
   "cell_type": "code",
   "execution_count": 150,
   "metadata": {},
   "outputs": [
    {
     "name": "stdout",
     "output_type": "stream",
     "text": [
      "[  130.640625  -200.015625  -356.890625 ... -1114.015625  -151.3125\n",
      "   -99.265625] [  243  -255  -460 ... -1126  -164  -175] 21705.179346166507\n",
      "2020-05-30 23:58:44,634 - __main__ - INFO - Model has a coefficient R^2 of 0.907.\n",
      "2020-05-30 23:58:44,637 - __main__ - INFO - and a Mean Squared Error of 21705.179.\n"
     ]
    },
    {
     "data": {
      "image/png": "[encoded data removed]",
      "text/plain": [
       "<Figure size 432x288 with 1 Axes>"
      ]
     },
     "metadata": {
      "needs_background": "light"
     },
     "output_type": "display_data"
    }
   ],
   "source": [
    "evaluate_model(regressor, X_test_diff, y_test_diff)"
   ]
  },
  {
   "cell_type": "code",
   "execution_count": 123,
   "metadata": {},
   "outputs": [
    {
     "ename": "NameError",
     "evalue": "name 'y_pred' is not defined",
     "output_type": "error",
     "traceback": [
      "\u001b[0;31m---------------------------------------------------------------------------\u001b[0m",
      "\u001b[0;31mNameError\u001b[0m                                 Traceback (most recent call last)",
      "\u001b[0;32m<ipython-input-123-421157ec4fd7>\u001b[0m in \u001b[0;36m<module>\u001b[0;34m\u001b[0m\n\u001b[0;32m----> 1\u001b[0;31m \u001b[0mprint\u001b[0m\u001b[0;34m(\u001b[0m\u001b[0my_pred\u001b[0m\u001b[0;34m)\u001b[0m\u001b[0;34m\u001b[0m\u001b[0;34m\u001b[0m\u001b[0m\n\u001b[0m",
      "\u001b[0;31mNameError\u001b[0m: name 'y_pred' is not defined"
     ]
    }
   ],
   "source": [
    "print(y_pred)"
   ]
  },
  {
   "cell_type": "code",
   "execution_count": 40,
   "metadata": {},
   "outputs": [
    {
     "name": "stdout",
     "output_type": "stream",
     "text": [
      "(543833,) (543833,)\n"
     ]
    }
   ],
   "source": [
    "print(np.shape(X_test_diff[:,0]), np.shape(y_test_diff) )"
   ]
  },
  {
   "cell_type": "code",
   "execution_count": 38,
   "metadata": {},
   "outputs": [
    {
     "data": {
      "text/plain": [
       "array([ 5.60000000e+01,  1.70000000e+02,  3.03000000e+02,  1.70000000e+02,\n",
       "        1.31000000e+02,  1.31000000e+02,  2.73000000e+02,  0.00000000e+00,\n",
       "        4.09459459e+00,  5.29411765e-01,  1.48863636e+00,  7.86259542e-01,\n",
       "        1.00000000e+00,  1.00000000e+00,  1.00000000e+00,  1.00000000e+00,\n",
       "        1.00000000e+00,  2.50000000e+01,  8.60000000e+01,  9.00000000e+01,\n",
       "        7.40000000e+01,  1.03000000e+02,  8.80000000e+01,  1.09000000e+02,\n",
       "        0.00000000e+00, -1.00000000e+00, -1.00000000e+00,  1.00000000e+00,\n",
       "       -1.00000000e+00, -2.00000000e+00,  2.00000000e+00,  1.00000000e+00,\n",
       "        0.00000000e+00,  1.00000000e+00,  0.00000000e+00,  1.00000000e+00,\n",
       "       -1.00000000e+00,  0.00000000e+00, -1.00000000e+00,  1.00000000e+00,\n",
       "        0.00000000e+00, -1.00000000e+00,  0.00000000e+00, -1.00000000e+00,\n",
       "        0.00000000e+00,  0.00000000e+00,  0.00000000e+00,  0.00000000e+00,\n",
       "        0.00000000e+00,  0.00000000e+00,  3.10000000e+01,  2.24000000e+00,\n",
       "        6.28000000e+02,  2.14181818e+00,  8.40000000e+01,  1.97674419e+00,\n",
       "        2.13000000e+02,  3.36666667e+00,  9.60000000e+01,  2.29729730e+00,\n",
       "        2.80000000e+01,  1.27184466e+00,  4.30000000e+01,  1.48863636e+00,\n",
       "        1.64000000e+02,  2.50458716e+00,  3.56518283e+00,  7.73423423e+00,\n",
       "        7.02376822e-01,  1.89331421e+00,  0.00000000e+00,  0.00000000e+00,\n",
       "        0.00000000e+00,  0.00000000e+00,  0.00000000e+00,  0.00000000e+00])"
      ]
     },
     "execution_count": 38,
     "metadata": {},
     "output_type": "execute_result"
    }
   ],
   "source": [
    "X_test_diff[:][0]"
   ]
  },
  {
   "cell_type": "code",
   "execution_count": 151,
   "metadata": {},
   "outputs": [],
   "source": [
    "from sklearn.neural_network import MLPRegressor\n",
    "\n",
    "from sklearn.datasets import make_regression\n",
    "from sklearn.model_selection import train_test_split\n",
    "\n",
    "\n",
    "# X, y = make_regression(n_samples=200, random_state=1)\n",
    "# X_train, X_test, y_train, y_test = train_test_split(X, y,\n",
    "#                                                     random_state=1)\n",
    "#X_train_diff, X_test_diff, y_train_diff, y_test_diff"
   ]
  },
  {
   "cell_type": "code",
   "execution_count": 160,
   "metadata": {},
   "outputs": [
    {
     "name": "stdout",
     "output_type": "stream",
     "text": [
      "Iteration 1, loss = 115019.03930005\n",
      "Iteration 2, loss = 104587.31129399\n",
      "Iteration 3, loss = 79325.41806951\n",
      "Iteration 4, loss = 48469.55681343\n",
      "Iteration 5, loss = 26071.80365497\n",
      "Iteration 6, loss = 17648.88479394\n",
      "Iteration 7, loss = 15973.75872720\n",
      "Iteration 8, loss = 15512.40018357\n",
      "Iteration 9, loss = 15241.47595750\n",
      "Iteration 10, loss = 15019.22172068\n",
      "Iteration 11, loss = 14893.20600699\n",
      "Iteration 12, loss = 14815.45120807\n",
      "Iteration 13, loss = 14743.79112145\n",
      "Iteration 14, loss = 14644.37152944\n",
      "Iteration 15, loss = 14557.60022758\n",
      "Iteration 16, loss = 14486.51416565\n",
      "Iteration 17, loss = 14417.56856814\n",
      "Iteration 18, loss = 14369.05448276\n",
      "Iteration 19, loss = 14276.36465781\n",
      "Iteration 20, loss = 14201.06409138\n",
      "Iteration 21, loss = 14162.58124496\n",
      "Iteration 22, loss = 14098.10524525\n",
      "Iteration 23, loss = 14038.53670655\n",
      "Iteration 24, loss = 13990.14031178\n",
      "Iteration 25, loss = 13950.51480776\n",
      "Iteration 26, loss = 13921.07703935\n",
      "Iteration 27, loss = 13877.34211750\n",
      "Iteration 28, loss = 13816.40136526\n",
      "Iteration 29, loss = 13771.84379205\n",
      "Iteration 30, loss = 13745.08936793\n",
      "Iteration 31, loss = 13714.02319808\n",
      "Iteration 32, loss = 13666.99881814\n",
      "Iteration 33, loss = 13653.45020677\n",
      "Iteration 34, loss = 13615.81692848\n",
      "Iteration 35, loss = 13585.53063766\n",
      "Iteration 36, loss = 13551.77039969\n",
      "Iteration 37, loss = 13496.55313783\n",
      "Iteration 38, loss = 13472.02850261\n",
      "Iteration 39, loss = 13446.01502890\n",
      "Iteration 40, loss = 13409.26317111\n",
      "Iteration 41, loss = 13374.20291426\n",
      "Iteration 42, loss = 13343.14018904\n",
      "Iteration 43, loss = 13322.18000504\n",
      "Iteration 44, loss = 13299.86608740\n",
      "Iteration 45, loss = 13278.72770226\n",
      "Iteration 46, loss = 13259.40226093\n",
      "Iteration 47, loss = 13223.46719713\n",
      "Iteration 48, loss = 13213.81713473\n",
      "Iteration 49, loss = 13187.04910522\n",
      "Iteration 50, loss = 13156.09339837\n",
      "Iteration 51, loss = 13129.02559899\n",
      "Iteration 52, loss = 13108.93498098\n",
      "Iteration 53, loss = 13068.70142288\n",
      "Iteration 54, loss = 13047.63122841\n",
      "Iteration 55, loss = 13011.21923436\n",
      "Iteration 56, loss = 12965.82593945\n",
      "Iteration 57, loss = 12948.58296292\n",
      "Iteration 58, loss = 12923.69191678\n",
      "Iteration 59, loss = 12898.53817371\n",
      "Iteration 60, loss = 12875.63392926\n",
      "Iteration 61, loss = 12854.04115331\n",
      "Iteration 62, loss = 12821.22667505\n",
      "Iteration 63, loss = 12802.05727701\n",
      "Iteration 64, loss = 12767.55521094\n",
      "Iteration 65, loss = 12741.35842040\n",
      "Iteration 66, loss = 12705.70286030\n",
      "Iteration 67, loss = 12682.65534372\n",
      "Iteration 68, loss = 12666.37490956\n",
      "Iteration 69, loss = 12640.66900860\n",
      "Iteration 70, loss = 12615.36462849\n",
      "Iteration 71, loss = 12578.53180621\n",
      "Iteration 72, loss = 12555.56807374\n",
      "Iteration 73, loss = 12544.42051904\n",
      "Iteration 74, loss = 12509.43133848\n",
      "Iteration 75, loss = 12488.74893922\n",
      "Iteration 76, loss = 12469.91104196\n",
      "Iteration 77, loss = 12448.40439004\n",
      "Iteration 78, loss = 12424.45504292\n",
      "Iteration 79, loss = 12407.00888100\n",
      "Iteration 80, loss = 12368.95003246\n",
      "Iteration 81, loss = 12345.30331316\n",
      "Iteration 82, loss = 12317.03026439\n",
      "Iteration 83, loss = 12287.12528302\n",
      "Iteration 84, loss = 12255.71257663\n",
      "Iteration 85, loss = 12218.00062330\n",
      "Iteration 86, loss = 12186.06468606\n",
      "Iteration 87, loss = 12158.01606696\n",
      "Iteration 88, loss = 12135.34189900\n",
      "Iteration 89, loss = 12109.49236061\n",
      "Iteration 90, loss = 12086.62009781\n",
      "Iteration 91, loss = 12060.64890810\n",
      "Iteration 92, loss = 12042.57458507\n",
      "Iteration 93, loss = 12017.00186653\n",
      "Iteration 94, loss = 11985.84475812\n",
      "Iteration 95, loss = 11969.15617344\n",
      "Iteration 96, loss = 11949.14327241\n",
      "Iteration 97, loss = 11924.18960792\n",
      "Iteration 98, loss = 11907.58239946\n",
      "Iteration 99, loss = 11875.38074379\n",
      "Iteration 100, loss = 11865.02418029\n",
      "Iteration 101, loss = 11842.10338655\n",
      "Iteration 102, loss = 11824.68393017\n",
      "Iteration 103, loss = 11790.20103032\n",
      "Iteration 104, loss = 11768.00137549\n",
      "Iteration 105, loss = 11740.17914362\n",
      "Iteration 106, loss = 11710.93982207\n",
      "Iteration 107, loss = 11676.97376573\n",
      "Iteration 108, loss = 11655.87462993\n",
      "Iteration 109, loss = 11623.94641591\n",
      "Iteration 110, loss = 11603.13465674\n",
      "Iteration 111, loss = 11581.35280659\n",
      "Iteration 112, loss = 11562.37988669\n",
      "Iteration 113, loss = 11537.19195974\n",
      "Iteration 114, loss = 11520.63306607\n",
      "Iteration 115, loss = 11506.48654824\n",
      "Iteration 116, loss = 11487.38408197\n",
      "Iteration 117, loss = 11474.19728208\n",
      "Iteration 118, loss = 11453.37836800\n",
      "Iteration 119, loss = 11432.41531364\n",
      "Iteration 120, loss = 11425.49614990\n",
      "Iteration 121, loss = 11403.17073432\n",
      "Iteration 122, loss = 11389.17027228\n",
      "Iteration 123, loss = 11370.64222464\n",
      "Iteration 124, loss = 11361.61384964\n",
      "Iteration 125, loss = 11339.80017070\n",
      "Iteration 126, loss = 11328.84354469\n",
      "Iteration 127, loss = 11310.30043464\n",
      "Iteration 128, loss = 11293.14364102\n",
      "Iteration 129, loss = 11289.26465254\n",
      "Iteration 130, loss = 11272.66056908\n",
      "Iteration 131, loss = 11263.15117446\n",
      "Iteration 132, loss = 11249.24340515\n",
      "Iteration 133, loss = 11233.71945204\n",
      "Iteration 134, loss = 11218.45540677\n",
      "Iteration 135, loss = 11209.12063369\n",
      "Iteration 136, loss = 11192.64267535\n",
      "Iteration 137, loss = 11183.24374029\n",
      "Iteration 138, loss = 11174.63158043\n",
      "Iteration 139, loss = 11162.07673122\n",
      "Iteration 140, loss = 11149.02525839\n",
      "Iteration 141, loss = 11142.27294041\n",
      "Iteration 142, loss = 11123.94186590\n",
      "Iteration 143, loss = 11115.28185382\n",
      "Iteration 144, loss = 11107.53606584\n",
      "Iteration 145, loss = 11095.98960857\n",
      "Iteration 146, loss = 11089.39499933\n",
      "Iteration 147, loss = 11069.72394365\n",
      "Iteration 148, loss = 11060.35906431\n",
      "Iteration 149, loss = 11051.66866769\n",
      "Iteration 150, loss = 11038.06431574\n",
      "Iteration 151, loss = 11027.94125779\n",
      "Iteration 152, loss = 11014.90756155\n",
      "Iteration 153, loss = 11012.88319751\n",
      "Iteration 154, loss = 10995.41298580\n",
      "Iteration 155, loss = 10986.49860140\n",
      "Iteration 156, loss = 10977.78706463\n",
      "Iteration 157, loss = 10972.91382944\n",
      "Iteration 158, loss = 10954.49879842\n",
      "Iteration 159, loss = 10948.20180415\n",
      "Iteration 160, loss = 10938.91745427\n",
      "Iteration 161, loss = 10927.57001202\n",
      "Iteration 162, loss = 10922.56640059\n",
      "Iteration 163, loss = 10906.63795524\n",
      "Iteration 164, loss = 10902.88438348\n",
      "Iteration 165, loss = 10896.68064453\n",
      "Iteration 166, loss = 10886.09324458\n",
      "Iteration 167, loss = 10875.84647085\n",
      "Iteration 168, loss = 10868.42234182\n",
      "Iteration 169, loss = 10859.98510677\n",
      "Iteration 170, loss = 10839.42450223\n",
      "Iteration 171, loss = 10836.45298391\n",
      "Iteration 172, loss = 10831.01627210\n",
      "Iteration 173, loss = 10822.61346057\n",
      "Iteration 174, loss = 10804.93542582\n",
      "Iteration 175, loss = 10809.66077362\n",
      "Iteration 176, loss = 10793.74425850\n",
      "Iteration 177, loss = 10783.77042587\n",
      "Iteration 178, loss = 10780.36907214\n",
      "Iteration 179, loss = 10770.18677010\n",
      "Iteration 180, loss = 10755.46148441\n",
      "Iteration 181, loss = 10758.15786640\n",
      "Iteration 182, loss = 10746.85669100\n",
      "Iteration 183, loss = 10733.64094253\n",
      "Iteration 184, loss = 10727.10446105\n",
      "Iteration 185, loss = 10725.85678759\n",
      "Iteration 186, loss = 10713.13211290\n",
      "Iteration 187, loss = 10704.11361798\n",
      "Iteration 188, loss = 10699.88541013\n",
      "Iteration 189, loss = 10692.39961074\n",
      "Iteration 190, loss = 10685.29198009\n",
      "Iteration 191, loss = 10673.80397077\n",
      "Iteration 192, loss = 10667.23960176\n",
      "Iteration 193, loss = 10659.55940395\n",
      "Iteration 194, loss = 10653.90025235\n",
      "Iteration 195, loss = 10637.43693894\n",
      "Iteration 196, loss = 10638.81359458\n",
      "Iteration 197, loss = 10624.05349243\n",
      "Iteration 198, loss = 10617.04991260\n",
      "Iteration 199, loss = 10614.29523985\n",
      "Iteration 200, loss = 10604.40399006\n",
      "Iteration 201, loss = 10595.52745690\n",
      "Iteration 202, loss = 10582.75204993\n",
      "Iteration 203, loss = 10576.65555891\n",
      "Iteration 204, loss = 10576.05298628\n",
      "Iteration 205, loss = 10563.39742734\n",
      "Iteration 206, loss = 10554.98154496\n",
      "Iteration 207, loss = 10547.80962904\n",
      "Iteration 208, loss = 10536.82067996\n",
      "Iteration 209, loss = 10535.00601039\n",
      "Iteration 210, loss = 10526.87638204\n",
      "Iteration 211, loss = 10514.64098939\n",
      "Iteration 212, loss = 10513.38406252\n",
      "Iteration 213, loss = 10504.27661219\n",
      "Iteration 214, loss = 10492.55572814\n",
      "Iteration 215, loss = 10488.86148909\n",
      "Iteration 216, loss = 10479.44313437\n",
      "Iteration 217, loss = 10472.83621553\n",
      "Iteration 218, loss = 10466.51909637\n",
      "Iteration 219, loss = 10459.04039690\n",
      "Iteration 220, loss = 10452.04929818\n",
      "Iteration 221, loss = 10441.49563560\n",
      "Iteration 222, loss = 10437.91002951\n",
      "Iteration 223, loss = 10427.08036645\n",
      "Iteration 224, loss = 10425.40913974\n",
      "Iteration 225, loss = 10420.87487713\n"
     ]
    },
    {
     "name": "stdout",
     "output_type": "stream",
     "text": [
      "Iteration 226, loss = 10409.05165466\n",
      "Iteration 227, loss = 10399.58050908\n",
      "Iteration 228, loss = 10396.14533992\n",
      "Iteration 229, loss = 10386.10136105\n",
      "Iteration 230, loss = 10380.53416082\n",
      "Iteration 231, loss = 10372.48103401\n",
      "Iteration 232, loss = 10368.78052461\n",
      "Iteration 233, loss = 10366.19163522\n",
      "Iteration 234, loss = 10354.45726188\n",
      "Iteration 235, loss = 10353.32005275\n",
      "Iteration 236, loss = 10341.90652008\n",
      "Iteration 237, loss = 10330.63129885\n",
      "Iteration 238, loss = 10325.09117914\n",
      "Iteration 239, loss = 10320.70023043\n",
      "Iteration 240, loss = 10312.71360609\n",
      "Iteration 241, loss = 10299.68736684\n",
      "Iteration 242, loss = 10297.92294650\n",
      "Iteration 243, loss = 10291.98065536\n",
      "Iteration 244, loss = 10286.31231631\n",
      "Iteration 245, loss = 10275.48993951\n",
      "Iteration 246, loss = 10271.13502699\n",
      "Iteration 247, loss = 10272.00781833\n",
      "Iteration 248, loss = 10257.29923165\n",
      "Iteration 249, loss = 10253.38788554\n",
      "Iteration 250, loss = 10242.91341039\n",
      "Iteration 251, loss = 10237.22750116\n",
      "Iteration 252, loss = 10230.54580895\n",
      "Iteration 253, loss = 10222.10472701\n",
      "Iteration 254, loss = 10221.10138275\n",
      "Iteration 255, loss = 10212.86272393\n",
      "Iteration 256, loss = 10209.44901762\n",
      "Iteration 257, loss = 10205.07944563\n",
      "Iteration 258, loss = 10195.24570147\n",
      "Iteration 259, loss = 10186.94543603\n",
      "Iteration 260, loss = 10180.18242628\n",
      "Iteration 261, loss = 10175.14835152\n",
      "Iteration 262, loss = 10169.15515604\n",
      "Iteration 263, loss = 10166.88762197\n",
      "Iteration 264, loss = 10156.36008157\n",
      "Iteration 265, loss = 10149.76149050\n",
      "Iteration 266, loss = 10149.03075980\n",
      "Iteration 267, loss = 10142.58638451\n",
      "Iteration 268, loss = 10134.00384701\n",
      "Iteration 269, loss = 10121.99161432\n",
      "Iteration 270, loss = 10123.98458585\n",
      "Iteration 271, loss = 10116.22073293\n",
      "Iteration 272, loss = 10106.77685110\n",
      "Iteration 273, loss = 10101.36727937\n",
      "Iteration 274, loss = 10106.88412682\n",
      "Iteration 275, loss = 10088.53645264\n",
      "Iteration 276, loss = 10082.47984193\n",
      "Iteration 277, loss = 10077.35368132\n",
      "Iteration 278, loss = 10077.08164539\n",
      "Iteration 279, loss = 10068.39306559\n",
      "Iteration 280, loss = 10060.40590381\n",
      "Iteration 281, loss = 10057.78176876\n",
      "Iteration 282, loss = 10055.46998130\n",
      "Iteration 283, loss = 10037.68854830\n",
      "Iteration 284, loss = 10034.64491910\n",
      "Iteration 285, loss = 10026.74630045\n",
      "Iteration 286, loss = 10026.89059845\n",
      "Iteration 287, loss = 10020.52587377\n",
      "Iteration 288, loss = 10018.77774893\n",
      "Iteration 289, loss = 10008.67438707\n",
      "Iteration 290, loss = 10005.74417362\n",
      "Iteration 291, loss = 10003.02410287\n",
      "Iteration 292, loss = 9987.94174548\n",
      "Iteration 293, loss = 9987.03299454\n",
      "Iteration 294, loss = 9985.54728078\n",
      "Iteration 295, loss = 9975.44867237\n",
      "Iteration 296, loss = 9975.66353801\n",
      "Iteration 297, loss = 9963.92993655\n",
      "Iteration 298, loss = 9957.37692703\n",
      "Iteration 299, loss = 9951.74475828\n",
      "Iteration 300, loss = 9943.63369777\n",
      "Iteration 301, loss = 9941.18056596\n",
      "Iteration 302, loss = 9940.16716657\n",
      "Iteration 303, loss = 9925.93493527\n",
      "Iteration 304, loss = 9930.09729768\n",
      "Iteration 305, loss = 9915.01309678\n",
      "Iteration 306, loss = 9910.53637018\n",
      "Iteration 307, loss = 9906.94540724\n",
      "Iteration 308, loss = 9897.40682780\n",
      "Iteration 309, loss = 9888.75254870\n",
      "Iteration 310, loss = 9887.12068395\n",
      "Iteration 311, loss = 9881.24189508\n",
      "Iteration 312, loss = 9882.83420570\n",
      "Iteration 313, loss = 9873.58090940\n",
      "Iteration 314, loss = 9865.36893021\n",
      "Iteration 315, loss = 9865.33513311\n",
      "Iteration 316, loss = 9861.54489717\n",
      "Iteration 317, loss = 9843.96448992\n",
      "Iteration 318, loss = 9842.86035786\n",
      "Iteration 319, loss = 9832.45909239\n",
      "Iteration 320, loss = 9832.43561351\n",
      "Iteration 321, loss = 9830.68896058\n",
      "Iteration 322, loss = 9822.30709766\n",
      "Iteration 323, loss = 9814.30557691\n",
      "Iteration 324, loss = 9810.82178797\n",
      "Iteration 325, loss = 9810.36356259\n",
      "Iteration 326, loss = 9798.06133499\n",
      "Iteration 327, loss = 9799.81501370\n",
      "Iteration 328, loss = 9795.99227365\n",
      "Iteration 329, loss = 9784.61787564\n",
      "Iteration 330, loss = 9781.40497730\n",
      "Iteration 331, loss = 9773.05576328\n",
      "Iteration 332, loss = 9770.38637736\n",
      "Iteration 333, loss = 9763.40150341\n",
      "Iteration 334, loss = 9758.08171559\n",
      "Iteration 335, loss = 9750.51918892\n",
      "Iteration 336, loss = 9750.41423779\n",
      "Iteration 337, loss = 9743.62301238\n",
      "Iteration 338, loss = 9734.02346978\n",
      "Iteration 339, loss = 9730.64070914\n",
      "Iteration 340, loss = 9726.70621003\n",
      "Iteration 341, loss = 9717.71644967\n",
      "Iteration 342, loss = 9716.82920630\n",
      "Iteration 343, loss = 9715.34059718\n",
      "Iteration 344, loss = 9701.02450481\n",
      "Iteration 345, loss = 9701.66238648\n",
      "Iteration 346, loss = 9693.23651296\n",
      "Iteration 347, loss = 9685.21209044\n",
      "Iteration 348, loss = 9679.42325890\n",
      "Iteration 349, loss = 9673.29126583\n",
      "Iteration 350, loss = 9670.90881626\n",
      "Iteration 351, loss = 9669.95057219\n",
      "Iteration 352, loss = 9666.05325731\n",
      "Iteration 353, loss = 9658.19986868\n",
      "Iteration 354, loss = 9658.53678838\n",
      "Iteration 355, loss = 9648.36882816\n",
      "Iteration 356, loss = 9645.15435111\n",
      "Iteration 357, loss = 9640.33099839\n",
      "Iteration 358, loss = 9630.59965838\n",
      "Iteration 359, loss = 9622.93677389\n",
      "Iteration 360, loss = 9615.18294260\n",
      "Iteration 361, loss = 9612.94639592\n",
      "Iteration 362, loss = 9605.62554935\n",
      "Iteration 363, loss = 9609.98951962\n",
      "Iteration 364, loss = 9605.32314866\n",
      "Iteration 365, loss = 9587.79142618\n",
      "Iteration 366, loss = 9593.89422609\n",
      "Iteration 367, loss = 9588.39759574\n",
      "Iteration 368, loss = 9585.30817220\n",
      "Iteration 369, loss = 9577.46605410\n",
      "Iteration 370, loss = 9568.10675162\n",
      "Iteration 371, loss = 9570.77575491\n",
      "Iteration 372, loss = 9557.04028941\n",
      "Iteration 373, loss = 9555.23716647\n",
      "Iteration 374, loss = 9555.23138216\n",
      "Iteration 375, loss = 9550.74913518\n",
      "Iteration 376, loss = 9537.39936867\n",
      "Iteration 377, loss = 9529.99928403\n",
      "Iteration 378, loss = 9534.05713615\n",
      "Iteration 379, loss = 9529.93707210\n",
      "Iteration 380, loss = 9525.04126214\n",
      "Iteration 381, loss = 9520.31286689\n",
      "Iteration 382, loss = 9506.90639976\n",
      "Iteration 383, loss = 9512.63020269\n",
      "Iteration 384, loss = 9507.84459439\n",
      "Iteration 385, loss = 9495.35207889\n",
      "Iteration 386, loss = 9496.18977244\n",
      "Iteration 387, loss = 9493.63216995\n",
      "Iteration 388, loss = 9482.68634941\n",
      "Iteration 389, loss = 9487.44556303\n",
      "Iteration 390, loss = 9472.85613954\n",
      "Iteration 391, loss = 9473.66514441\n",
      "Iteration 392, loss = 9466.52187094\n",
      "Iteration 393, loss = 9469.95389397\n",
      "Iteration 394, loss = 9457.02044278\n",
      "Iteration 395, loss = 9452.35511850\n",
      "Iteration 396, loss = 9457.11638364\n",
      "Iteration 397, loss = 9444.70884225\n",
      "Iteration 398, loss = 9438.04074408\n",
      "Iteration 399, loss = 9440.47104310\n",
      "Iteration 400, loss = 9436.12909158\n",
      "Iteration 401, loss = 9426.47709403\n",
      "Iteration 402, loss = 9421.38509296\n",
      "Iteration 403, loss = 9422.43992788\n",
      "Iteration 404, loss = 9417.31526121\n",
      "Iteration 405, loss = 9408.44075966\n",
      "Iteration 406, loss = 9412.90554606\n",
      "Iteration 407, loss = 9410.50723683\n",
      "Iteration 408, loss = 9398.56369793\n",
      "Iteration 409, loss = 9391.76063642\n",
      "Iteration 410, loss = 9391.85178926\n",
      "Iteration 411, loss = 9379.28215536\n",
      "Iteration 412, loss = 9381.48685642\n",
      "Iteration 413, loss = 9376.48273301\n",
      "Iteration 414, loss = 9383.61153815\n",
      "Iteration 415, loss = 9364.87322720\n",
      "Iteration 416, loss = 9364.97088374\n",
      "Iteration 417, loss = 9362.11427913\n",
      "Iteration 418, loss = 9361.25653869\n",
      "Iteration 419, loss = 9350.95206532\n",
      "Iteration 420, loss = 9347.82952157\n",
      "Iteration 421, loss = 9347.94686202\n",
      "Iteration 422, loss = 9343.02437223\n",
      "Iteration 423, loss = 9336.64169412\n",
      "Iteration 424, loss = 9336.03267271\n",
      "Iteration 425, loss = 9331.06705947\n",
      "Iteration 426, loss = 9324.45527767\n",
      "Iteration 427, loss = 9324.18117925\n",
      "Iteration 428, loss = 9318.54690245\n",
      "Iteration 429, loss = 9313.93548430\n",
      "Iteration 430, loss = 9309.31475378\n",
      "Iteration 431, loss = 9313.35484299\n",
      "Iteration 432, loss = 9305.47567947\n",
      "Iteration 433, loss = 9298.76023090\n",
      "Iteration 434, loss = 9295.89765080\n",
      "Iteration 435, loss = 9283.65394660\n",
      "Iteration 436, loss = 9297.80880668\n",
      "Iteration 437, loss = 9288.13794967\n",
      "Iteration 438, loss = 9283.06877925\n",
      "Iteration 439, loss = 9276.81629490\n",
      "Iteration 440, loss = 9277.75119746\n",
      "Iteration 441, loss = 9277.59750663\n",
      "Iteration 442, loss = 9266.01910627\n",
      "Iteration 443, loss = 9264.24189044\n",
      "Iteration 444, loss = 9259.77790495\n",
      "Iteration 445, loss = 9263.35057937\n",
      "Iteration 446, loss = 9245.88042587\n",
      "Iteration 447, loss = 9244.59058084\n",
      "Iteration 448, loss = 9246.70933177\n",
      "Iteration 449, loss = 9241.32087847\n",
      "Iteration 450, loss = 9235.19061782\n",
      "Iteration 451, loss = 9223.55345147\n"
     ]
    },
    {
     "name": "stdout",
     "output_type": "stream",
     "text": [
      "Iteration 452, loss = 9235.20190233\n",
      "Iteration 453, loss = 9225.51242448\n",
      "Iteration 454, loss = 9216.87144341\n",
      "Iteration 455, loss = 9218.11735547\n",
      "Iteration 456, loss = 9219.24493048\n",
      "Iteration 457, loss = 9213.15420010\n",
      "Iteration 458, loss = 9210.30421649\n",
      "Iteration 459, loss = 9204.06781388\n",
      "Iteration 460, loss = 9201.69460318\n",
      "Iteration 461, loss = 9198.89625632\n",
      "Iteration 462, loss = 9192.28918027\n",
      "Iteration 463, loss = 9196.92407758\n",
      "Iteration 464, loss = 9189.15832514\n",
      "Iteration 465, loss = 9186.11564981\n",
      "Iteration 466, loss = 9178.67724062\n",
      "Iteration 467, loss = 9180.52894175\n",
      "Iteration 468, loss = 9169.08651821\n",
      "Iteration 469, loss = 9167.46091046\n",
      "Iteration 470, loss = 9173.57701415\n",
      "Iteration 471, loss = 9160.49262325\n",
      "Iteration 472, loss = 9159.07707338\n",
      "Iteration 473, loss = 9161.01977590\n",
      "Iteration 474, loss = 9149.57523054\n",
      "Iteration 475, loss = 9147.76293395\n",
      "Iteration 476, loss = 9149.65355561\n",
      "Iteration 477, loss = 9143.96952005\n",
      "Iteration 478, loss = 9149.16625303\n",
      "Iteration 479, loss = 9132.94326528\n",
      "Iteration 480, loss = 9133.31905473\n",
      "Iteration 481, loss = 9133.13283841\n",
      "Iteration 482, loss = 9123.09636702\n",
      "Iteration 483, loss = 9121.58159798\n",
      "Iteration 484, loss = 9120.93637240\n",
      "Iteration 485, loss = 9114.24800307\n",
      "Iteration 486, loss = 9114.64239551\n",
      "Iteration 487, loss = 9101.59841601\n",
      "Iteration 488, loss = 9103.71875014\n",
      "Iteration 489, loss = 9108.09046429\n",
      "Iteration 490, loss = 9107.09951647\n",
      "Iteration 491, loss = 9097.99244157\n",
      "Iteration 492, loss = 9088.43090825\n",
      "Iteration 493, loss = 9092.74634797\n",
      "Iteration 494, loss = 9086.83133124\n",
      "Iteration 495, loss = 9083.36447288\n",
      "Iteration 496, loss = 9084.65588961\n",
      "Iteration 497, loss = 9081.28230065\n",
      "Iteration 498, loss = 9071.36533039\n",
      "Iteration 499, loss = 9078.08824698\n",
      "Iteration 500, loss = 9066.07001020\n"
     ]
    },
    {
     "name": "stderr",
     "output_type": "stream",
     "text": [
      "/Users/lucazurmuehle/anaconda3/envs/pokehack/lib/python3.6/site-packages/sklearn/neural_network/multilayer_perceptron.py:562: ConvergenceWarning: Stochastic Optimizer: Maximum iterations (500) reached and the optimization hasn't converged yet.\n",
      "  % self.max_iter, ConvergenceWarning)\n"
     ]
    }
   ],
   "source": [
    "regr = MLPRegressor(random_state=1, max_iter=500, verbose=True).fit(X_train_diff, y_train_diff)"
   ]
  },
  {
   "cell_type": "code",
   "execution_count": 162,
   "metadata": {},
   "outputs": [],
   "source": [
    "y_pred_diff = regr.predict(X_test_diff)#[:2])"
   ]
  },
  {
   "cell_type": "code",
   "execution_count": 161,
   "metadata": {},
   "outputs": [
    {
     "data": {
      "text/plain": [
       "0.9231958744480443"
      ]
     },
     "execution_count": 161,
     "metadata": {},
     "output_type": "execute_result"
    }
   ],
   "source": [
    "regr.score(X_test_diff, y_test_diff)"
   ]
  },
  {
   "cell_type": "code",
   "execution_count": 163,
   "metadata": {},
   "outputs": [
    {
     "data": {
      "text/plain": [
       "0.9231958744480443"
      ]
     },
     "execution_count": 163,
     "metadata": {},
     "output_type": "execute_result"
    }
   ],
   "source": [
    "r2_score(y_test_diff, y_pred_diff)"
   ]
  },
  {
   "cell_type": "code",
   "execution_count": 164,
   "metadata": {},
   "outputs": [
    {
     "data": {
      "text/plain": [
       "18006.69301960508"
      ]
     },
     "execution_count": 164,
     "metadata": {},
     "output_type": "execute_result"
    }
   ],
   "source": [
    "mean_squared_error(y_test_diff,y_pred_diff) "
   ]
  },
  {
   "cell_type": "code",
   "execution_count": 167,
   "metadata": {},
   "outputs": [],
   "source": [
    "import pickle"
   ]
  },
  {
   "cell_type": "code",
   "execution_count": 168,
   "metadata": {},
   "outputs": [],
   "source": [
    "filename = 'MLPregressor.sav'\n",
    "pickle.dump(regr, open(filename, 'wb'))"
   ]
  },
  {
   "cell_type": "code",
   "execution_count": 157,
   "metadata": {},
   "outputs": [
    {
     "data": {
      "text/plain": [
       "array([[ 0.41627019,  0.42697805,  0.41808229,  0.41799742,  0.41799742,\n",
       "         0.41748824,  0.41792754,  0.41748824,  0.41600062,  0.41600456,\n",
       "         0.41600634,  0.41600992,  0.41600269,  0.41603057,  0.41600561,\n",
       "         0.41603057,  0.41600561,  0.41600561,  0.41600561,  0.41603057,\n",
       "         0.41600362,  0.41603057,  0.41603057,  0.41600561,  0.41605054,\n",
       "         0.41779774,  0.41637502,  0.42529574,  0.41822207,  0.41828696,\n",
       "         0.41853157,  0.41679934,  0.41679934,  0.41665957,  0.41600062,\n",
       "        -1.        , -2.        ,  0.        ,  1.        , -3.        ,\n",
       "         2.        ,  0.        ,  0.        ,  0.        , -1.        ,\n",
       "         1.        ,  0.        ,  1.        ,  1.        ,  1.        ,\n",
       "        -1.        , -2.        , -2.        , -1.        , -2.        ,\n",
       "         0.        , -1.        , -1.        ,  1.        ,  1.        ,\n",
       "         0.41589579,  0.41600422,  0.41768293,  0.41600652,  0.41586085,\n",
       "         0.4160053 ,  0.41571109,  0.41600498,  0.41546648,  0.41600456,\n",
       "         0.41668952,  0.41600992,  0.41712882,  0.41601267,  0.4168293 ,\n",
       "         0.41601189,  0.41599884,  0.41600406,  0.41600785,  0.41602305,\n",
       "         0.41600062,  0.41602974,  0.41602974,  0.41600062,  0.41605004,\n",
       "         0.41779773],\n",
       "       [ 0.41608549,  0.41812223,  0.41652478,  0.41655473,  0.41634008,\n",
       "         0.41623525,  0.41623525,  0.41623525,  0.41600062,  0.41600274,\n",
       "         0.4160167 ,  0.41600135,  0.41602739,  0.41603057,  0.41600561,\n",
       "         0.41600362,  0.41603057,  0.41600561,  0.41600561,  0.41600561,\n",
       "         0.41600561,  0.41603057,  0.41600112,  0.41600561,  0.41600561,\n",
       "         0.41600362,  0.41616536,  0.42363839,  0.41727358,  0.41709387,\n",
       "         0.41730354,  0.41725861,  0.41761803,  0.41709387,  0.41600561,\n",
       "         0.        , -1.        ,  0.        ,  0.        ,  0.        ,\n",
       "        -1.        , -2.        , -2.        , -1.        , -2.        ,\n",
       "         0.        ,  0.        , -1.        ,  0.        ,  2.        ,\n",
       "         0.        ,  0.        ,  0.        ,  0.        ,  0.        ,\n",
       "         0.        , -1.        ,  0.        , -1.        ,  0.        ,\n",
       "         0.41592075,  0.41600319,  0.41048445,  0.41600201,  0.41525182,\n",
       "         0.41600268,  0.41546149,  0.41600315,  0.41503716,  0.41600192,\n",
       "         0.41497726,  0.41600155,  0.41461784,  0.41600135,  0.415142  ,\n",
       "         0.41600169,  0.41598667,  0.41600128,  0.41597458,  0.41600076,\n",
       "         0.41599563,  0.41602974,  0.4159512 ,  0.41600062,  0.41600062,\n",
       "         0.4159953 ]])"
      ]
     },
     "execution_count": 157,
     "metadata": {},
     "output_type": "execute_result"
    }
   ],
   "source": [
    "X_test_diff[:2]"
   ]
  },
  {
   "cell_type": "code",
   "execution_count": 165,
   "metadata": {},
   "outputs": [
    {
     "name": "stdout",
     "output_type": "stream",
     "text": [
      "MLPRegressor(activation='relu', alpha=0.0001, batch_size='auto', beta_1=0.9,\n",
      "       beta_2=0.999, early_stopping=False, epsilon=1e-08,\n",
      "       hidden_layer_sizes=(100,), learning_rate='constant',\n",
      "       learning_rate_init=0.001, max_iter=500, momentum=0.9,\n",
      "       n_iter_no_change=10, nesterovs_momentum=True, power_t=0.5,\n",
      "       random_state=1, shuffle=True, solver='adam', tol=0.0001,\n",
      "       validation_fraction=0.1, verbose=True, warm_start=False)\n"
     ]
    }
   ],
   "source": [
    "print(regr)"
   ]
  },
  {
   "cell_type": "code",
   "execution_count": null,
   "metadata": {},
   "outputs": [],
   "source": []
  }
 ],
 "metadata": {
  "kernelspec": {
   "display_name": "PokeHackathonKedro",
   "language": "python",
   "name": "python3"
  },
  "language_info": {
   "codemirror_mode": {
    "name": "ipython",
    "version": 3
   },
   "file_extension": ".py",
   "mimetype": "text/x-python",
   "name": "python",
   "nbconvert_exporter": "python",
   "pygments_lexer": "ipython3",
   "version": "3.6.10"
  }
 },
 "nbformat": 4,
 "nbformat_minor": 4
}
